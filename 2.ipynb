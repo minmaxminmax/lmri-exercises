{
 "metadata": {
  "name": ""
 },
 "nbformat": 3,
 "nbformat_minor": 0,
 "worksheets": [
  {
   "cells": [
    {
     "cell_type": "markdown",
     "metadata": {},
     "source": [
      "#Caracteriza\u00e7\u00e3o do feixe de radia\u00e7\u00e3o do irradiador de Co-60 \"Eldorado\" <br /> * Depend\u00eancia da carga de ioniza\u00e7\u00e3o com a abertura do colimador do irradiador *#"
     ]
    },
    {
     "cell_type": "markdown",
     "metadata": {},
     "source": [
      "__Data:__ 8 de Julho 2014    \n",
      "__Autor:__ Gon\u00e7alo Carvalhal"
     ]
    },
    {
     "cell_type": "markdown",
     "metadata": {},
     "source": [
      "##1 Objectivos##"
     ]
    },
    {
     "cell_type": "markdown",
     "metadata": {},
     "source": [
      "Observar a depend\u00eancia da carga de ioniza\u00e7\u00e3o com a abertura do colimador do irradiador"
     ]
    },
    {
     "cell_type": "markdown",
     "metadata": {},
     "source": [
      "##2 Refer\u00eancias##\n"
     ]
    },
    {
     "cell_type": "markdown",
     "metadata": {},
     "source": [
      "##3 Material e equipamento##"
     ]
    },
    {
     "cell_type": "markdown",
     "metadata": {},
     "source": [
      "**Irradiador**  \n",
      "    Marca e modelo: AECL Eldorado (n\u00ba s\u00e9rie: 211) **(LMRI_EQ_57)**  \n",
      "    Fonte radioactiva: Co-60  \n",
      "    Actividade \u00e0 data de refer\u00eancia: 1.094E2 TBq (2.956 kCi) @ 25 fev 1998\n",
      "\n",
      "**C\u00e2mara de ioniza\u00e7\u00e3o**  \n",
      "Marca, tipo e modelo: PTW Farmer M23332 (n\u00ba s\u00e9rie: 824) **(LMRI_EQ_09)**  \n",
      "<!-- ![C\u00e2mara de ioniza\u00e7\u00e3o PTW Farmer M23332](files/farmer.jpg) -->\n",
      "\n",
      "**Electr\u00f3metro**  \n",
      "Marca e modelo: PTW UNIDOS (n\u00ba s\u00e9rie: 10568) **(LMRI_EQ_23)**\n",
      "\n",
      "**Outros**\n",
      "- bar\u00f3metro digital de precis\u00e3o Negretti M2236 (n\u00ba s\u00e9rie: B1151) **(LMRI_EQ_41)**  \n",
      "- term\u00f3metro digital Comark **(LMRI_EQ_36)** \n",
      "- micr\u00f3metro de interiores de dois pontos Mitutoyo (n\u00ba s\u00e9rie: 32263) **(LMRI_EQ_40)**  \n",
      "- cabo el\u00e9ctrico **(LMRI_EQ_98)**"
     ]
    },
    {
     "cell_type": "markdown",
     "metadata": {},
     "source": [
      "##4 Procedimento##"
     ]
    },
    {
     "cell_type": "markdown",
     "metadata": {},
     "source": [
      "###4.1 Setup experimental###\n",
      "Qualidade da radia\u00e7\u00e3o: Co-60  \n",
      "Dist\u00e2ncia fonte-c\u00e2mara (SCD): 100 cm  \n",
      "Tempo de irradia\u00e7\u00e3o: 60 s    \n",
      "Potencial el\u00e9ctrico aplicado \u00e0 c\u00e2mara de ioniza\u00e7\u00e3o: 400 V   "
     ]
    },
    {
     "cell_type": "markdown",
     "metadata": {},
     "source": [
      "##5 Formul\u00e1rio##"
     ]
    },
    {
     "cell_type": "markdown",
     "metadata": {},
     "source": [
      "* Factor de correc\u00e7\u00e3o para a press\u00e3o atmosf\u00e9rica e temperatura, $C_{PT}$  \n",
      "$C_{PT} = \\frac{273.15 + T}{293.15}\\cdot\\frac{1013.25}{P}$,    \n",
      "com $T$ a temperatura (em oC) e com $P$ a press\u00e3o atmosf\u00e9rica (em hPa).    \n",
      "\n",
      "<br />\n",
      "* Carga de ioniza\u00e7\u00e3o gerada na c\u00e2mara de ioniza\u00e7\u00e3o em calibra\u00e7\u00e3o, $Q'$    \n",
      "$Q' = Q \\cdot C_{PT}$,    \n",
      "com $Q$ a carga de ioniza\u00e7\u00e3o medida (em C) e com $C_{PT}$ o factor de correc\u00e7\u00e3o para a press\u00e3o atmosf\u00e9rica e temperatura.\n",
      "\n",
      "<br />\n",
      "* Incerteza associada \u00e0 medi\u00e7\u00e3o da carga de ioniza\u00e7\u00e3o gerada na c\u00e2mara de ioniza\u00e7\u00e3o em calibra\u00e7\u00e3o, $u_{Q'}$   \n",
      "$u_{Q'} = C_{PT}\\sqrt{u_{Q}^{2}+(\\frac{Q}{273.15+T})^{2}\\cdot u_{T}^{2}+(\\frac{Q}{P})^{2}\\cdot u_{P}^{2}}$,   \n",
      "com $C_{PT}$ o factor de correc\u00e7\u00e3o para a press\u00e3o atmosf\u00e9rica e temperatura, com $Q$ e $u_{Q}$ a carga de ioniza\u00e7\u00e3o medida e a respectiva incerteza associada (em C), com $T$ e $u_{T}$ a temperatura e a respectiva incerteza associada (em oC) e com $P$ e $u_{P}$ a press\u00e3o atmosf\u00e9rica e respectiva incerteza associada (em hPa).     "
     ]
    },
    {
     "cell_type": "markdown",
     "metadata": {},
     "source": [
      "##6 C\u00e1lculos##"
     ]
    },
    {
     "cell_type": "markdown",
     "metadata": {},
     "source": [
      "###Dados###"
     ]
    },
    {
     "cell_type": "code",
     "collapsed": false,
     "input": [
      "# datasets\n",
      "\n",
      "# datasets: (temperature (oC), atmospheric pressure (hPa), charge (pC))\n",
      "# @2014-07-8\n",
      "dataset1 = [\n",
      "(20.4, 1018.2, 603.0),\n",
      "(20.5, 1018.4, 603.5),\n",
      "(20.5, 1018.4, 603.5),\n",
      "(20.5, 1018.4, 603.0),\n",
      "(20.4, 1018.3, 603.5)\n",
      "]\n",
      "\n",
      "dataset2 = [\n",
      "(20.3, 1018.4, 629.0),\n",
      "(20.4, 1018.3, 629.5),\n",
      "(20.3, 1018.4, 630.0),\n",
      "(20.4, 1018.4, 630.0),\n",
      "(20.4, 1018.4, 629.5)\n",
      "]\n",
      "\n",
      "dataset3 = [\n",
      "(20.3, 1018.3, 638.5),\n",
      "(20.3, 1018.2, 638.5),\n",
      "(20.3, 1018.2, 638.5),\n",
      "(20.3, 1018.2, 639.0),\n",
      "(20.3, 1018.2, 639.0)    \n",
      "]\n",
      "\n",
      "dataset4 = [\n",
      "(20.2, 1018.1, 644.5),\n",
      "(20.3, 1018.0, 645.0),\n",
      "(20.3, 1018.0, 645.0),\n",
      "(20.3, 1018.0, 645.0),\n",
      "(20.3, 1018.0, 645.0)\n",
      "]\n",
      "\n",
      "dataset5 = [\n",
      "(20.3, 1017.8, 647.0),\n",
      "(20.2, 1017.8, 647.5),\n",
      "(20.2, 1017.8, 647.5),\n",
      "(20.2, 1017.8, 647.5),\n",
      "(20.3, 1017.8, 647.5)\n",
      "]"
     ],
     "language": "python",
     "metadata": {},
     "outputs": [],
     "prompt_number": 13
    },
    {
     "cell_type": "heading",
     "level": 3,
     "metadata": {},
     "source": [
      "An\u00e1lise de dados"
     ]
    },
    {
     "cell_type": "code",
     "collapsed": false,
     "input": [
      "%%javascript\n",
      "IPython.OutputArea.auto_scroll_threshold = 9999;"
     ],
     "language": "python",
     "metadata": {},
     "outputs": [
      {
       "javascript": [
        "IPython.OutputArea.auto_scroll_threshold = 9999;"
       ],
       "metadata": {},
       "output_type": "display_data",
       "text": [
        "<IPython.core.display.Javascript at 0x7fe2c51ab090>"
       ]
      }
     ],
     "prompt_number": 14
    },
    {
     "cell_type": "code",
     "collapsed": false,
     "input": [
      "# modules\n",
      "import numpy as np\n",
      "import pandas as pd\n",
      "import scipy.stats as st\n",
      "import matplotlib as mpl\n",
      "import matplotlib.pyplot as plt"
     ],
     "language": "python",
     "metadata": {},
     "outputs": [],
     "prompt_number": 15
    },
    {
     "cell_type": "code",
     "collapsed": false,
     "input": [
      "# aesthetics\n",
      "#mpl.rcParams.update({'font.family':'STIXGeneral', 'font.weight':'light', 'mathtext.fontset': 'stix', 'font.size': 18})\n",
      "#pd.options.display.max_colwidth=180\n",
      "pd.set_option('expand_frame_repr', False)"
     ],
     "language": "python",
     "metadata": {},
     "outputs": [],
     "prompt_number": 16
    },
    {
     "cell_type": "code",
     "collapsed": false,
     "input": [
      "# functions\n",
      "def k_pt(temp, p):\n",
      "    return ((temp+273.15)/293.15)*(1013.25/p)\n",
      "\n",
      "def k_a(dt, t1_2):\n",
      "    return np.exp(np.log(2)*dt/t1_2)\n",
      "\n",
      "def k_ptdataset(dataset):\n",
      "    return ((dataset[0]+273.15)/293.15) *(1013.25/ dataset[1])"
     ],
     "language": "python",
     "metadata": {},
     "outputs": [],
     "prompt_number": 17
    },
    {
     "cell_type": "code",
     "collapsed": false,
     "input": [
      "index = [i for i in range(1,len(dataset1)+1)]\n",
      "columns = ['temperatura (oC)', 'press\u00e3o atmosf\u00e9rica (hPa)', 'carga (pC)',]\n",
      "\n",
      "df1 = pd.DataFrame(dataset1, columns=columns, index=index)\n",
      "df2 = pd.DataFrame(dataset2, columns=columns, index=index)\n",
      "df3 = pd.DataFrame(dataset3, columns=columns, index=index)\n",
      "df4 = pd.DataFrame(dataset4, columns=columns, index=index)\n",
      "df5 = pd.DataFrame(dataset5, columns=columns, index=index)\n",
      "\n",
      "df1['CPT'] = df1.apply(k_ptdataset, axis=1)\n",
      "df1['corr_charge (pC)'] = df1['carga (pC)']*df1['CPT']\n",
      "df2['CPT'] = df2.apply(k_ptdataset, axis=1)\n",
      "df2['corr_charge (pC)'] = df2['carga (pC)']*df2['CPT']\n",
      "df3['CPT'] = df3.apply(k_ptdataset, axis=1)\n",
      "df3['corr_charge (pC)'] = df3['carga (pC)']*df3['CPT']\n",
      "df4['CPT'] = df4.apply(k_ptdataset, axis=1)\n",
      "df4['corr_charge (pC)'] = df4['carga (pC)']*df4['CPT']\n",
      "df5['CPT'] = df5.apply(k_ptdataset, axis=1)\n",
      "df5['corr_charge (pC)'] = df5['carga (pC)']*df5['CPT']\n",
      "\n",
      "d = [df1, df2, df3, df4, df5]\n",
      "data = [df1, df2, df3, df4, df5]\n",
      "\n",
      "for i in data:\n",
      "    i['CPT'] = np.round(i['CPT'],2)\n",
      "    i['corr_charge (pC)'] = np.round(i['corr_charge (pC)'],1)\n",
      "\n",
      "data = pd.concat(data, keys=[i for i in range(1, len(data)+1)], names=['# Repetition'])"
     ],
     "language": "python",
     "metadata": {},
     "outputs": [],
     "prompt_number": 18
    },
    {
     "cell_type": "code",
     "collapsed": false,
     "input": [
      "m = []\n",
      "s = []\n",
      "\n",
      "for index, i in enumerate(d):\n",
      "    mean = np.round(i['corr_charge (pC)'].mean(), 1)\n",
      "    var = np.round(i['corr_charge (pC)'].var(), 1)\n",
      "    sdev = np.round(i['corr_charge (pC)'].std(), 1)\n",
      "    \n",
      "    m.append(mean)\n",
      "    s.append(sdev)\n",
      "    \n",
      "    print \"dataset\",index+1\n",
      "    print \"----------------------------------------------------------------------------------\"\n",
      "    print i\n",
      "    print \"\\n\"\n",
      "    print \"m\u00e9dia:\", mean\n",
      "    print \"vari\u00e2ncia:\", var\n",
      "    print \"desvio-padr\u00e3o:\", sdev\n",
      "    print \"coeficiente de varia\u00e7\u00e3o (%):\", np.round(sdev/mean, 4)*100\n",
      "    print \"----------------------------------------------------------------------------------\"\n",
      "    print \"\\n\""
     ],
     "language": "python",
     "metadata": {},
     "outputs": [
      {
       "output_type": "stream",
       "stream": "stdout",
       "text": [
        "dataset 1\n",
        "----------------------------------------------------------------------------------\n",
        "   temperatura (oC)  press\u00e3o atmosf\u00e9rica (hPa)  carga (pC)  CPT  corr_charge (pC)\n",
        "1              20.4                     1018.2       603.0    1             600.9\n",
        "2              20.5                     1018.4       603.5    1             601.5\n",
        "3              20.5                     1018.4       603.5    1             601.5\n",
        "4              20.5                     1018.4       603.0    1             601.0\n",
        "5              20.4                     1018.3       603.5    1             601.3\n",
        "\n",
        "\n",
        "m\u00e9dia: 601.2\n",
        "vari\u00e2ncia: 0.1\n",
        "desvio-padr\u00e3o: 0.3\n",
        "coeficiente de varia\u00e7\u00e3o (%): 0.05\n",
        "----------------------------------------------------------------------------------\n",
        "\n",
        "\n",
        "dataset 2\n",
        "----------------------------------------------------------------------------------\n",
        "   temperatura (oC)  press\u00e3o atmosf\u00e9rica (hPa)  carga (pC)  CPT  corr_charge (pC)\n",
        "1              20.3                     1018.4       629.0    1             626.5\n",
        "2              20.4                     1018.3       629.5    1             627.2\n",
        "3              20.3                     1018.4       630.0    1             627.5\n",
        "4              20.4                     1018.4       630.0    1             627.7\n",
        "5              20.4                     1018.4       629.5    1             627.2\n",
        "\n",
        "\n",
        "m\u00e9dia: 627.2\n",
        "vari\u00e2ncia: 0.2\n",
        "desvio-padr\u00e3o: 0.5\n",
        "coeficiente de varia\u00e7\u00e3o (%): 0.08\n",
        "----------------------------------------------------------------------------------\n",
        "\n",
        "\n",
        "dataset 3\n",
        "----------------------------------------------------------------------------------\n",
        "   temperatura (oC)  press\u00e3o atmosf\u00e9rica (hPa)  carga (pC)  CPT  corr_charge (pC)\n",
        "1              20.3                     1018.3       638.5    1             636.0\n",
        "2              20.3                     1018.2       638.5    1             636.0\n",
        "3              20.3                     1018.2       638.5    1             636.0\n",
        "4              20.3                     1018.2       639.0    1             636.5\n",
        "5              20.3                     1018.2       639.0    1             636.5\n",
        "\n",
        "\n",
        "m\u00e9dia: 636.2\n",
        "vari\u00e2ncia: 0.1\n",
        "desvio-padr\u00e3o: 0.3\n",
        "coeficiente de varia\u00e7\u00e3o (%): 0.05\n",
        "----------------------------------------------------------------------------------\n",
        "\n",
        "\n",
        "dataset 4\n",
        "----------------------------------------------------------------------------------\n",
        "   temperatura (oC)  press\u00e3o atmosf\u00e9rica (hPa)  carga (pC)  CPT  corr_charge (pC)\n",
        "1              20.2                     1018.1       644.5    1             641.9\n",
        "2              20.3                     1018.0       645.0    1             642.6\n",
        "3              20.3                     1018.0       645.0    1             642.6\n",
        "4              20.3                     1018.0       645.0    1             642.6\n",
        "5              20.3                     1018.0       645.0    1             642.6\n",
        "\n",
        "\n",
        "m\u00e9dia: 642.5\n",
        "vari\u00e2ncia: 0.1\n",
        "desvio-padr\u00e3o: 0.3\n",
        "coeficiente de varia\u00e7\u00e3o (%): 0.05\n",
        "----------------------------------------------------------------------------------\n",
        "\n",
        "\n",
        "dataset 5\n",
        "----------------------------------------------------------------------------------\n",
        "   temperatura (oC)  press\u00e3o atmosf\u00e9rica (hPa)  carga (pC)  CPT  corr_charge (pC)\n",
        "1              20.3                     1017.8       647.0    1             644.8\n",
        "2              20.2                     1017.8       647.5    1             645.0\n",
        "3              20.2                     1017.8       647.5    1             645.0\n",
        "4              20.2                     1017.8       647.5    1             645.0\n",
        "5              20.3                     1017.8       647.5    1             645.3\n",
        "\n",
        "\n",
        "m\u00e9dia: 645.0\n",
        "vari\u00e2ncia: 0.0\n",
        "desvio-padr\u00e3o: 0.2\n",
        "coeficiente de varia\u00e7\u00e3o (%): 0.03\n",
        "----------------------------------------------------------------------------------\n",
        "\n",
        "\n"
       ]
      }
     ],
     "prompt_number": 19
    },
    {
     "cell_type": "markdown",
     "metadata": {},
     "source": [
      "###Gr\u00e1ficos###"
     ]
    },
    {
     "cell_type": "code",
     "collapsed": false,
     "input": [
      "%matplotlib inline\n",
      "\n",
      "with mpl.rc_context(rc={'font.family':'sans-serif', 'font.weight':'normal', 'font.size':20}):\n",
      "    fig, axes = plt.subplots(ncols=5, figsize=(18, 8), dpi=1000)\n",
      "\n",
      "    for index, ax in enumerate(axes):\n",
      "        ax.plot(d[index].iloc[:,4], lw=0.25, ls='-', marker='o', markersize=10, alpha=0.8)\n",
      "        ax.xaxis.set_major_formatter(plt.FormatStrFormatter(\"\"))\n",
      "        ax.set_ylabel(\"charge (pC)\")\n",
      "        ax.set_xlim([-1, 5])\n",
      "        ax.set_ylim([600, 650])\n",
      "        ax.set_title('charge measurement \\n (dataset %s)'%(index+1))"
     ],
     "language": "python",
     "metadata": {},
     "outputs": [
      {
       "metadata": {},
       "output_type": "display_data",
       "png": "[encoded data removed]",
       "text": [
        "<matplotlib.figure.Figure at 0x7fe2c5541350>"
       ]
      }
     ],
     "prompt_number": 20
    },
    {
     "cell_type": "code",
     "collapsed": false,
     "input": [
      "%matplotlib inline\n",
      "\n",
      "with mpl.rc_context(rc={'font.family':'sans-serif', 'font.weight':'normal', 'font.size':20}):\n",
      "    fig, ax = plt.subplots(nrows=1, figsize=(18, 8), dpi=1000)\n",
      "    ax.xaxis.set_major_formatter(plt.FixedFormatter(['', '10x10', '20x20', '25x25', '30x30', '35x35']))\n",
      "    ax.set_xlabel(\"field size (cmxcm)\")\n",
      "    ax.set_ylabel(\"charge (pC)\")\n",
      "    ax.set_xlim([-1, 5])\n",
      "    ax.set_ylim([570, 650])\n",
      "    ax.set_title('charge measurement \\n (mean values)')\n",
      "    \n",
      "    for index, i in enumerate(m):\n",
      "        ax.plot(index, i, lw=0.25, ls='-', marker='o', markersize=10, alpha=0.8, label=index+1, color=[1, 0, 0, .5])\n",
      "    \n",
      "    ax.legend(['10x10', '20x20', '25x25', '30x30', '35x35'])"
     ],
     "language": "python",
     "metadata": {},
     "outputs": [
      {
       "metadata": {},
       "output_type": "display_data",
       "png": "[encoded data removed]",
       "text": [
        "<matplotlib.figure.Figure at 0x7fe2c53ddf90>"
       ]
      }
     ],
     "prompt_number": 21
    },
    {
     "cell_type": "code",
     "collapsed": false,
     "input": [
      "%matplotlib inline\n",
      "\n",
      "with mpl.rc_context(rc={'font.family':'sans-serif', 'font.weight':'normal', 'font.size':20}):\n",
      "    fig, ax = plt.subplots(nrows=1, figsize=(18, 8), dpi=1000)\n",
      "    #ax.xaxis.set_major_formatter(plt.FixedFormatter(['', '10x10', '20x20', '25x25', '30x30', '35x35']))\n",
      "    ax.set_xlabel(\"field size (cmxcm)\")\n",
      "    ax.set_ylabel(\"charge (pC)\")\n",
      "    #ax.set_xlim([-1, 5])\n",
      "    ax.set_ylim([0.95, 1.10])\n",
      "    ax.set_title('charge measurement \\n (mean values - normalization to 10x10)')\n",
      "    \n",
      "    x = [10*10, 20*20, 25*25, 30*30, 35*35]\n",
      "    \n",
      "    for index, i in enumerate(m):\n",
      "        ax.plot(x[index], i/m[0], lw=0.25, ls='-', marker='o', markersize=10, alpha=0.8, label=index+1, color=[1, 0, 0, .5])\n",
      "    \n",
      "    ax.legend(['10x10', '20x20', '25x25', '30x30', '35x35'])"
     ],
     "language": "python",
     "metadata": {},
     "outputs": [
      {
       "metadata": {},
       "output_type": "display_data",
       "png": "[encoded data removed]",
       "text": [
        "<matplotlib.figure.Figure at 0x7fe2c55f3610>"
       ]
      }
     ],
     "prompt_number": 22
    },
    {
     "cell_type": "markdown",
     "metadata": {},
     "source": [
      "##7 Considera\u00e7\u00f5es finais##\n",
      "Observa-se que para um mesmo tempo de irradia\u00e7\u00e3o, quanto maior \u00e9 o tamanho do campo de irradia\u00e7\u00e3o, ou seja, quanto maior \u00e9 a \u00e1rea de colima\u00e7\u00e3o do feixe de irradia\u00e7\u00e3o, maior \u00e9 a carga de ioniza\u00e7\u00e3o gerada na c\u00e2mara de ioniza\u00e7\u00e3o.\n",
      "\n",
      "\n",
      "A raz\u00e3o de ser destes resultados ter\u00e1 que ver com radia\u00e7\u00e3o dispersa na vizinhan\u00e7a da c\u00e2mara de ioniza\u00e7\u00e3o: com o aumento da \u00e1rea de colima\u00e7\u00e3o, aumenta tamb\u00e9m a vizinhan\u00e7a da c\u00e2mara de ioniza\u00e7\u00e3o que est\u00e1 a ser irradiada, levando assim a um aumento do contributo da radia\u00e7\u00e3o dispersa para a carga de ioniza\u00e7\u00e3o na c\u00e2mara de ioniza\u00e7\u00e3o."
     ]
    }
   ],
   "metadata": {}
  }
 ]
}
