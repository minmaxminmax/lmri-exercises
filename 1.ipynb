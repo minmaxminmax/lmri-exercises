{
 "metadata": {
  "name": ""
 },
 "nbformat": 3,
 "nbformat_minor": 0,
 "worksheets": [
  {
   "cells": [
    {
     "cell_type": "markdown",
     "metadata": {},
     "source": [
      "#Caracteriza\u00e7\u00e3o do feixe de radia\u00e7\u00e3o do irradiador de Co-60 \"Eldorado\" <br /> * Repetibilidade da medi\u00e7\u00e3o de carga de ioniza\u00e7\u00e3o *#\n"
     ]
    },
    {
     "cell_type": "markdown",
     "metadata": {},
     "source": [
      "__Data:__ 7 e 8 de Julho 2014    \n",
      "__Autor:__ Gon\u00e7alo Carvalhal"
     ]
    },
    {
     "cell_type": "markdown",
     "metadata": {},
     "source": [
      "##1 Objectivos##"
     ]
    },
    {
     "cell_type": "markdown",
     "metadata": {},
     "source": [
      "Avaliar a repetibilidade da medi\u00e7\u00e3o de carga de ioniza\u00e7\u00e3o"
     ]
    },
    {
     "cell_type": "markdown",
     "metadata": {},
     "source": [
      "##2 Refer\u00eancias##\n",
      "\n",
      "\"VIM - Vocabul\u00e1rio Internacional de Metrologia\", 3\u00aa Edi\u00e7\u00e3o, Novembro 2008 "
     ]
    },
    {
     "cell_type": "markdown",
     "metadata": {},
     "source": [
      "##3 Material e equipamento##"
     ]
    },
    {
     "cell_type": "markdown",
     "metadata": {},
     "source": [
      "**Irradiador**  \n",
      "    Marca e modelo: AECL Eldorado (n\u00ba s\u00e9rie: 211) **(LMRI_EQ_57)**  \n",
      "    Fonte radioactiva: Co-60  \n",
      "    Actividade \u00e0 data de refer\u00eancia: 1.094E2 TBq (2.956 kCi) @ 25 fev 1998\n",
      "\n",
      "**C\u00e2mara de ioniza\u00e7\u00e3o**  \n",
      "Marca, tipo e modelo: PTW Farmer M23332 (n\u00ba s\u00e9rie: 824) **(LMRI_EQ_09)**  \n",
      "<!-- ![C\u00e2mara de ioniza\u00e7\u00e3o PTW Farmer M23332](files/farmer.jpg) -->\n",
      "\n",
      "**Electr\u00f3metro**  \n",
      "Marca e modelo: PTW UNIDOS (n\u00ba s\u00e9rie: 10568) **(LMRI_EQ_23)**\n",
      "\n",
      "**Outros**\n",
      "- bar\u00f3metro digital de precis\u00e3o Negretti M2236 (n\u00ba s\u00e9rie: B1151) **(LMRI_EQ_41)**  \n",
      "- term\u00f3metro digital Comark **(LMRI_EQ_36)** \n",
      "- micr\u00f3metro de interiores de dois pontos Mitutoyo (n\u00ba s\u00e9rie: 32263) **(LMRI_EQ_40)**  \n",
      "- cabo el\u00e9ctrico **(LMRI_EQ_98)**"
     ]
    },
    {
     "cell_type": "markdown",
     "metadata": {},
     "source": [
      "##4 Procedimento##"
     ]
    },
    {
     "cell_type": "markdown",
     "metadata": {},
     "source": [
      "###4.1 Setup experimental###\n",
      "Qualidade da radia\u00e7\u00e3o: Co-60  \n",
      "Dist\u00e2ncia fonte-c\u00e2mara (SCD): 100 cm  \n",
      "Tamanho nominal do campo de radia\u00e7\u00e3o: 10 cm x 10 cm  \n",
      "Tempo de irradia\u00e7\u00e3o: 60 s\n",
      "Potencial el\u00e9ctrico aplicado \u00e0 c\u00e2mara de ioniza\u00e7\u00e3o: 400 V   "
     ]
    },
    {
     "cell_type": "markdown",
     "metadata": {},
     "source": [
      "##5 Formul\u00e1rio##"
     ]
    },
    {
     "cell_type": "markdown",
     "metadata": {},
     "source": [
      "* Factor de correc\u00e7\u00e3o para a press\u00e3o atmosf\u00e9rica e temperatura, $C_{PT}$  \n",
      "$C_{PT} = \\frac{273.15 + T}{293.15}\\cdot\\frac{1013.25}{P}$,    \n",
      "com $T$ a temperatura (em oC) e com $P$ a press\u00e3o atmosf\u00e9rica (em hPa).    \n",
      "\n",
      "<br />\n",
      "* Carga de ioniza\u00e7\u00e3o gerada, $Q'$    \n",
      "$Q' = Q \\cdot C_{PT}$,    \n",
      "com $Q$ a carga de ioniza\u00e7\u00e3o medida (em C) e com $C_{PT}$ o factor de correc\u00e7\u00e3o para a press\u00e3o atmosf\u00e9rica e temperatura.\n",
      "\n",
      "<br />\n",
      "* Incerteza associada \u00e0 medi\u00e7\u00e3o da carga de ioniza\u00e7\u00e3o gerada, $u_{Q'}$   \n",
      "$u_{Q'} = C_{PT}\\sqrt{u_{Q}^{2}+(\\frac{293.15^2}{273.15+T})^{2}\\cdot u_{T}^{2}+\\frac{Q}{P}\\cdot u_{P}^{2}}$,    \n",
      "com $C_{PT}$ o factor de correc\u00e7\u00e3o para a press\u00e3o atmosf\u00e9rica e temperatura, com $Q$ e $u_{Q}$ a carga de ioniza\u00e7\u00e3o medida e a respectiva incerteza associada (em C), com $T$ e $u_{T}$ a temperatura e a respectiva incerteza associada (em oC) e com $P$ e $u_{P}$ a press\u00e3o atmosf\u00e9rica e respectiva incerteza associada (em hPa).     \n",
      "\n",
      "\n",
      "\n",
      "<br />\n",
      "* Factor de correc\u00e7\u00e3o para a actividade da fonte de Co-60, $C_{A}$  \n",
      "$C_{A} = e^{(\\frac{ln(2)}{T_{1/2}} \\cdot t)}$,    \n",
      "com $T_{1/2}$ o per\u00edodo de semi-desintegra\u00e7\u00e3o do Co-60 (em s) e $t$ o intervalo de tempo entre a data de refer\u00eancia e a data da medi\u00e7\u00e3o (em s)."
     ]
    },
    {
     "cell_type": "markdown",
     "metadata": {},
     "source": [
      "##6 C\u00e1lculos##"
     ]
    },
    {
     "cell_type": "markdown",
     "metadata": {},
     "source": [
      "###Dados###"
     ]
    },
    {
     "cell_type": "code",
     "collapsed": false,
     "input": [
      "# data\n",
      "# datasets: (temperature (oC), atmospheric pressure (hPa), charge (pC))\n",
      "# @2014-07-7\n",
      "dataset1 = [\n",
      "(18.9, 1019.9, 606.0),\n",
      "(18.9, 1019.9, 606.5),\n",
      "(19.0, 1019.9, 606.5),\n",
      "(19.2, 1019.9, 606.5),\n",
      "(19.1, 1020.1, 606.0)\n",
      "]\n",
      "\n",
      "dataset2 = [\n",
      "(19.4, 1019.5, 604.5),\n",
      "(19.4, 1019.5, 603.0),\n",
      "(19.4, 1019.4, 603.5),\n",
      "(19.5, 1019.4, 604.0),\n",
      "(19.5, 1019.4, 603.5)\n",
      "]\n",
      "\n",
      "dataset3 = [\n",
      "(19.4, 1019.5, 602.0),\n",
      "(19.4, 1019.5, 602.5),\n",
      "(19.4, 1019.3, 602.5),\n",
      "(19.4, 1019.3, 602.5),\n",
      "(19.3, 1019.3, 602.5)\n",
      "]\n",
      "\n",
      "dataset4 = [\n",
      "(19.7, 1019.2, 603.5),\n",
      "(19.4, 1019.2, 604.5),\n",
      "(19.5, 1019.2, 604.5),\n",
      "(19.5, 1019.2, 604.5),\n",
      "(19.5, 1019.2, 604.0)\n",
      "]\n",
      "\n",
      "dataset5 = [\n",
      "(19.6, 1019.4, 603.5),\n",
      "(19.3, 1019.4, 603.5),\n",
      "(19.4, 1019.2, 604.0),\n",
      "(19.4, 1019.2, 604.0),\n",
      "(19.5, 1019.2, 604.0)\n",
      "]\n",
      "\n",
      "# @2014-07-8\n",
      "dataset6 = [\n",
      "(18.9, 1019.9, 606.0),\n",
      "(18.9, 1019.9, 606.5),\n",
      "(19.0, 1019.9, 606.5),\n",
      "(19.2, 1019.9, 606.5),\n",
      "(19.1, 1020.1, 606.0)\n",
      "]\n",
      "\n",
      "dataset7 = [\n",
      "(19.3, 1020.0, 606.5),\n",
      "(19.2, 1020.0, 606.5),\n",
      "(19.3, 1019.9, 606.5),\n",
      "(19.4, 1019.9, 606.5),\n",
      "(19.3, 1019.9, 606.5)\n",
      "]\n",
      "\n",
      "dataset8 = [\n",
      "(19.4, 1020.0, 606.0),\n",
      "(19.4, 1020.0, 606.0),\n",
      "(19.5, 1020.2, 606.0),\n",
      "(19.5, 1020.0, 606.0),\n",
      "(19.5, 1020.2, 606.0)\n",
      "]\n",
      "\n",
      "dataset9 = [\n",
      "(19.6, 1020.1, 605.0),\n",
      "(19.6, 1020.1, 605.5),\n",
      "(19.6, 1020.2, 605.5),\n",
      "(19.6, 1020.2, 605.5),\n",
      "(19.6, 1020.2, 605.0)\n",
      "]\n",
      "\n",
      "dataset10 = [\n",
      "(19.7, 1020.2, 605.0),\n",
      "(19.8, 1020.0, 605.5),\n",
      "(19.7, 1020.0, 605.0),\n",
      "(19.7, 1020.0, 605.5),\n",
      "(19.7, 1020.0, 605.5)\n",
      "]\n",
      "\n",
      "# elapsed time between measurements, in seconds\n",
      "dt= 72000\n",
      "# half-life for Co-60, in seconds\n",
      "t1_2= 166340000"
     ],
     "language": "python",
     "metadata": {},
     "outputs": [],
     "prompt_number": 1
    },
    {
     "cell_type": "heading",
     "level": 3,
     "metadata": {},
     "source": [
      "An\u00e1lise de dados"
     ]
    },
    {
     "cell_type": "code",
     "collapsed": false,
     "input": [
      "%%javascript\n",
      "IPython.OutputArea.auto_scroll_threshold = 9999;"
     ],
     "language": "python",
     "metadata": {},
     "outputs": [
      {
       "javascript": [
        "IPython.OutputArea.auto_scroll_threshold = 9999;"
       ],
       "metadata": {},
       "output_type": "display_data",
       "text": [
        "<IPython.core.display.Javascript at 0x7fb70f273e50>"
       ]
      }
     ],
     "prompt_number": 2
    },
    {
     "cell_type": "code",
     "collapsed": false,
     "input": [
      "# modules\n",
      "import numpy as np\n",
      "import pandas as pd\n",
      "import scipy.stats as st\n",
      "import matplotlib as mpl\n",
      "import matplotlib.pyplot as plt"
     ],
     "language": "python",
     "metadata": {},
     "outputs": [],
     "prompt_number": 3
    },
    {
     "cell_type": "code",
     "collapsed": false,
     "input": [
      "# aesthetics\n",
      "#mpl.rcParams.update({'font.family':'STIXGeneral', 'font.weight':'light', 'mathtext.fontset': 'stix', 'font.size': 18})\n",
      "pd.options.display.max_colwidth=180\n",
      "pd.set_option('expand_frame_repr', False)"
     ],
     "language": "python",
     "metadata": {},
     "outputs": [],
     "prompt_number": 4
    },
    {
     "cell_type": "code",
     "collapsed": false,
     "input": [
      "# functions\n",
      "def k_pt(temp, p):\n",
      "    return ((temp+273.15)/293.15)*(1013.25/p)\n",
      "\n",
      "def k_a(dt, t1_2):\n",
      "    return np.exp(np.log(2)*dt/t1_2)\n",
      "\n",
      "def k_ptdataset(dataset):\n",
      "    return ((dataset[0]+273.15)/293.15) *(1013.25/ dataset[1])\n",
      "\n",
      "t1_2_Co60 = 166340000\n",
      "print k_a(20*3600, t1_2_Co60)\n",
      "print k_a(24*7*3600, t1_2_Co60)\n",
      "print k_a(24*30*3600, t1_2_Co60)\n",
      "print k_a(24*365*3600, t1_2_Co60)"
     ],
     "language": "python",
     "metadata": {},
     "outputs": [
      {
       "output_type": "stream",
       "stream": "stdout",
       "text": [
        "1.00030007265\n",
        "1.0025234106\n",
        "1.01085953623\n",
        "1.14043766414\n"
       ]
      }
     ],
     "prompt_number": 18
    },
    {
     "cell_type": "code",
     "collapsed": false,
     "input": [
      "index = [i for i in range(1,len(dataset1)+1)]\n",
      "columns = ['temperatura (oC)', 'press\u00e3o atmosf\u00e9rica (hPa)', 'carga (pC)',]\n",
      "\n",
      "df1 = pd.DataFrame(dataset1, columns=columns, index=index)\n",
      "df2 = pd.DataFrame(dataset2, columns=columns, index=index)\n",
      "df3 = pd.DataFrame(dataset3, columns=columns, index=index)\n",
      "df4 = pd.DataFrame(dataset4, columns=columns, index=index)\n",
      "df5 = pd.DataFrame(dataset5, columns=columns, index=index)\n",
      "df6 = pd.DataFrame(dataset6, columns=columns, index=index)\n",
      "df7 = pd.DataFrame(dataset7, columns=columns, index=index)\n",
      "df8 = pd.DataFrame(dataset8, columns=columns, index=index)\n",
      "df9 = pd.DataFrame(dataset9, columns=columns, index=index)\n",
      "df10 = pd.DataFrame(dataset10, columns=columns, index=index)\n",
      "\n",
      "df1['CPT'] = df1.apply(k_ptdataset, axis=1)\n",
      "df1['corr_charge (pC)'] = df1['carga (pC)']*df1['CPT']\n",
      "df2['CPT'] = df2.apply(k_ptdataset, axis=1)\n",
      "df2['corr_charge (pC)'] = df2['carga (pC)']*df2['CPT']\n",
      "df3['CPT'] = df3.apply(k_ptdataset, axis=1)\n",
      "df3['corr_charge (pC)'] = df3['carga (pC)']*df3['CPT']\n",
      "df4['CPT'] = df4.apply(k_ptdataset, axis=1)\n",
      "df4['corr_charge (pC)'] = df4['carga (pC)']*df4['CPT']\n",
      "df5['CPT'] = df5.apply(k_ptdataset, axis=1)\n",
      "df5['corr_charge (pC)'] = df5['carga (pC)']*df5['CPT']\n",
      "df6['CPT'] = df6.apply(k_ptdataset, axis=1)\n",
      "df6['corr_charge (pC)'] = df6['carga (pC)']*df6['CPT']\n",
      "df7['CPT'] = df7.apply(k_ptdataset, axis=1)\n",
      "df7['corr_charge (pC)'] = df7['carga (pC)']*df7['CPT']\n",
      "df8['CPT'] = df8.apply(k_ptdataset, axis=1)\n",
      "df8['corr_charge (pC)'] = df8['carga (pC)']*df8['CPT']\n",
      "df9['CPT'] = df9.apply(k_ptdataset, axis=1)\n",
      "df9['corr_charge (pC)'] = df9['carga (pC)']*df9['CPT']\n",
      "df10['CPT'] = df10.apply(k_ptdataset, axis=1)\n",
      "df10['corr_charge (pC)'] = df10['carga (pC)']*df10['CPT']\n",
      "\n",
      "d = [df1, df2, df3, df4, df5, df6, df7, df8, df9, df10]\n",
      "data = [df1, df2, df3, df4, df5, df6, df7, df8, df9, df10]\n",
      "\n",
      "for i in data:\n",
      "    i['CPT'] = np.round(i['CPT'],2)\n",
      "    i['corr_charge (pC)'] = np.round(i['corr_charge (pC)'],1)\n",
      "\n",
      "data = pd.concat(data, keys=[i for i in range(1, len(data)+1)], names=['# Repetition'])"
     ],
     "language": "python",
     "metadata": {},
     "outputs": [],
     "prompt_number": 6
    },
    {
     "cell_type": "code",
     "collapsed": false,
     "input": [
      "m = []\n",
      "\n",
      "#TODO: look for outliers in data\n",
      "\n",
      "for index, i in enumerate(d):\n",
      "    mean = np.round(i['corr_charge (pC)'].mean(), 1)\n",
      "    var = np.round(i['corr_charge (pC)'].var(), 1)\n",
      "    sdev = np.round(i['corr_charge (pC)'].std(), 1)\n",
      "    cv = np.round(sdev/mean, 4)*100\n",
      "    m.append(mean)\n",
      "    \n",
      "    print \"dataset\",index+1\n",
      "    print \"----------------------------------------------------------------------------------\"\n",
      "    print i\n",
      "    print \"\\n\"\n",
      "    print \"m\u00e9dia:\", mean\n",
      "    #print \"vari\u00e2ncia:\", var\n",
      "    print \"desvio-padr\u00e3o:\", sdev\n",
      "    print \"coeficiente de varia\u00e7\u00e3o (%):\", cv\n",
      "    print \"----------------------------------------------------------------------------------\"\n",
      "    print \"\\n\" \n",
      "\n",
      "print \"[Resultados finais]\"\n",
      "print 'm\u00e9dia: ', np.mean(m)\n",
      "print 'desvio-padr\u00e3o da m\u00e9dia: ', np.std(m)/np.sqrt(10)\n",
      "print 'coeficiente de varia\u00e7\u00e3o (%): ', (np.std(m)/np.sqrt(10))/np.mean(m)"
     ],
     "language": "python",
     "metadata": {},
     "outputs": [
      {
       "output_type": "stream",
       "stream": "stdout",
       "text": [
        "dataset 1\n",
        "----------------------------------------------------------------------------------\n",
        "   temperatura (oC)  press\u00e3o atmosf\u00e9rica (hPa)  carga (pC)   CPT  corr_charge (pC)\n",
        "1              18.9                     1019.9       606.0  0.99             599.8\n",
        "2              18.9                     1019.9       606.5  0.99             600.3\n",
        "3              19.0                     1019.9       606.5  0.99             600.5\n",
        "4              19.2                     1019.9       606.5  0.99             600.9\n",
        "5              19.1                     1020.1       606.0  0.99             600.1\n",
        "\n",
        "\n",
        "m\u00e9dia: 600.3\n",
        "desvio-padr\u00e3o: 0.4\n",
        "coeficiente de varia\u00e7\u00e3o (%): 0.07\n",
        "----------------------------------------------------------------------------------\n",
        "\n",
        "\n",
        "dataset 2\n",
        "----------------------------------------------------------------------------------\n",
        "   temperatura (oC)  press\u00e3o atmosf\u00e9rica (hPa)  carga (pC)   CPT  corr_charge (pC)\n",
        "1              19.4                     1019.5       604.5  0.99             599.6\n",
        "2              19.4                     1019.5       603.0  0.99             598.1\n",
        "3              19.4                     1019.4       603.5  0.99             598.6\n",
        "4              19.5                     1019.4       604.0  0.99             599.3\n",
        "5              19.5                     1019.4       603.5  0.99             598.8\n",
        "\n",
        "\n",
        "m\u00e9dia: 598.9\n",
        "desvio-padr\u00e3o: 0.6\n",
        "coeficiente de varia\u00e7\u00e3o (%): 0.1\n",
        "----------------------------------------------------------------------------------\n",
        "\n",
        "\n",
        "dataset 3\n",
        "----------------------------------------------------------------------------------\n",
        "   temperatura (oC)  press\u00e3o atmosf\u00e9rica (hPa)  carga (pC)   CPT  corr_charge (pC)\n",
        "1              19.4                     1019.5       602.0  0.99             597.1\n",
        "2              19.4                     1019.5       602.5  0.99             597.6\n",
        "3              19.4                     1019.3       602.5  0.99             597.7\n",
        "4              19.4                     1019.3       602.5  0.99             597.7\n",
        "5              19.3                     1019.3       602.5  0.99             597.5\n",
        "\n",
        "\n",
        "m\u00e9dia: 597.5\n",
        "desvio-padr\u00e3o: 0.2\n",
        "coeficiente de varia\u00e7\u00e3o (%): 0.03\n",
        "----------------------------------------------------------------------------------\n",
        "\n",
        "\n",
        "dataset 4\n",
        "----------------------------------------------------------------------------------\n",
        "   temperatura (oC)  press\u00e3o atmosf\u00e9rica (hPa)  carga (pC)   CPT  corr_charge (pC)\n",
        "1              19.7                     1019.2       603.5  0.99             599.4\n",
        "2              19.4                     1019.2       604.5  0.99             599.7\n",
        "3              19.5                     1019.2       604.5  0.99             599.9\n",
        "4              19.5                     1019.2       604.5  0.99             599.9\n",
        "5              19.5                     1019.2       604.0  0.99             599.4\n",
        "\n",
        "\n",
        "m\u00e9dia: 599.7\n",
        "desvio-padr\u00e3o: 0.3\n",
        "coeficiente de varia\u00e7\u00e3o (%): 0.05\n",
        "----------------------------------------------------------------------------------\n",
        "\n",
        "\n",
        "dataset 5\n",
        "----------------------------------------------------------------------------------\n",
        "   temperatura (oC)  press\u00e3o atmosf\u00e9rica (hPa)  carga (pC)   CPT  corr_charge (pC)\n",
        "1              19.6                     1019.4       603.5  0.99             599.0\n",
        "2              19.3                     1019.4       603.5  0.99             598.4\n",
        "3              19.4                     1019.2       604.0  0.99             599.2\n",
        "4              19.4                     1019.2       604.0  0.99             599.2\n",
        "5              19.5                     1019.2       604.0  0.99             599.4\n",
        "\n",
        "\n",
        "m\u00e9dia: 599.0\n",
        "desvio-padr\u00e3o: 0.4\n",
        "coeficiente de varia\u00e7\u00e3o (%): 0.07\n",
        "----------------------------------------------------------------------------------\n",
        "\n",
        "\n",
        "dataset 6\n",
        "----------------------------------------------------------------------------------\n",
        "   temperatura (oC)  press\u00e3o atmosf\u00e9rica (hPa)  carga (pC)   CPT  corr_charge (pC)\n",
        "1              18.9                     1019.9       606.0  0.99             599.8\n",
        "2              18.9                     1019.9       606.5  0.99             600.3\n",
        "3              19.0                     1019.9       606.5  0.99             600.5\n",
        "4              19.2                     1019.9       606.5  0.99             600.9\n",
        "5              19.1                     1020.1       606.0  0.99             600.1\n",
        "\n",
        "\n",
        "m\u00e9dia: 600.3\n",
        "desvio-padr\u00e3o: 0.4\n",
        "coeficiente de varia\u00e7\u00e3o (%): 0.07\n",
        "----------------------------------------------------------------------------------\n",
        "\n",
        "\n",
        "dataset 7\n",
        "----------------------------------------------------------------------------------\n",
        "   temperatura (oC)  press\u00e3o atmosf\u00e9rica (hPa)  carga (pC)   CPT  corr_charge (pC)\n",
        "1              19.3                     1020.0       606.5  0.99             601.0\n",
        "2              19.2                     1020.0       606.5  0.99             600.8\n",
        "3              19.3                     1019.9       606.5  0.99             601.1\n",
        "4              19.4                     1019.9       606.5  0.99             601.3\n",
        "5              19.3                     1019.9       606.5  0.99             601.1\n",
        "\n",
        "\n",
        "m\u00e9dia: 601.1\n",
        "desvio-padr\u00e3o: 0.2\n",
        "coeficiente de varia\u00e7\u00e3o (%): 0.03\n",
        "----------------------------------------------------------------------------------\n",
        "\n",
        "\n",
        "dataset 8\n",
        "----------------------------------------------------------------------------------\n",
        "   temperatura (oC)  press\u00e3o atmosf\u00e9rica (hPa)  carga (pC)   CPT  corr_charge (pC)\n",
        "1              19.4                     1020.0         606  0.99             600.8\n",
        "2              19.4                     1020.0         606  0.99             600.8\n",
        "3              19.5                     1020.2         606  0.99             600.8\n",
        "4              19.5                     1020.0         606  0.99             601.0\n",
        "5              19.5                     1020.2         606  0.99             600.8\n",
        "\n",
        "\n",
        "m\u00e9dia: 600.8\n",
        "desvio-padr\u00e3o: 0.1\n",
        "coeficiente de varia\u00e7\u00e3o (%): 0.02\n",
        "----------------------------------------------------------------------------------\n",
        "\n",
        "\n",
        "dataset 9\n",
        "----------------------------------------------------------------------------------\n",
        "   temperatura (oC)  press\u00e3o atmosf\u00e9rica (hPa)  carga (pC)   CPT  corr_charge (pC)\n",
        "1              19.6                     1020.1       605.0  0.99             600.1\n",
        "2              19.6                     1020.1       605.5  0.99             600.6\n",
        "3              19.6                     1020.2       605.5  0.99             600.6\n",
        "4              19.6                     1020.2       605.5  0.99             600.6\n",
        "5              19.6                     1020.2       605.0  0.99             600.1\n",
        "\n",
        "\n",
        "m\u00e9dia: 600.4\n",
        "desvio-padr\u00e3o: 0.3\n",
        "coeficiente de varia\u00e7\u00e3o (%): 0.05\n",
        "----------------------------------------------------------------------------------\n",
        "\n",
        "\n",
        "dataset"
       ]
      },
      {
       "output_type": "stream",
       "stream": "stdout",
       "text": [
        " 10\n",
        "----------------------------------------------------------------------------------\n",
        "   temperatura (oC)  press\u00e3o atmosf\u00e9rica (hPa)  carga (pC)   CPT  corr_charge (pC)\n",
        "1              19.7                     1020.2       605.0  0.99             600.3\n",
        "2              19.8                     1020.0       605.5  0.99             601.1\n",
        "3              19.7                     1020.0       605.0  0.99             600.4\n",
        "4              19.7                     1020.0       605.5  0.99             600.9\n",
        "5              19.7                     1020.0       605.5  0.99             600.9\n",
        "\n",
        "\n",
        "m\u00e9dia: 600.7\n",
        "desvio-padr\u00e3o: 0.3\n",
        "coeficiente de varia\u00e7\u00e3o (%): 0.05\n",
        "----------------------------------------------------------------------------------\n",
        "\n",
        "\n",
        "[Resultados finais]\n",
        "m\u00e9dia:  599.87\n",
        "desvio-padr\u00e3o da m\u00e9dia:  0.332580817246\n",
        "coeficiente de varia\u00e7\u00e3o (%):  0.000554421486732\n"
       ]
      }
     ],
     "prompt_number": 12
    },
    {
     "cell_type": "markdown",
     "metadata": {},
     "source": [
      "###Gr\u00e1ficos###"
     ]
    },
    {
     "cell_type": "code",
     "collapsed": false,
     "input": [
      "# plotting\n",
      "%matplotlib inline\n",
      "\n",
      "with mpl.rc_context(rc={'font.family':'sans-serif', 'font.weight':'normal', 'font.size':20}):\n",
      "    fig, axes = plt.subplots(nrows=2, ncols=5, figsize=(18, 8), dpi=1000)\n",
      "\n",
      "    for col, ref in enumerate(axes):\n",
      "        for row, ax in enumerate(ref):\n",
      "            ax.plot(d[col*5+row].iloc[:,4], lw=0.25, ls='-', marker='o', markersize=10, alpha=0.8)\n",
      "            ax.xaxis.set_major_formatter(plt.FormatStrFormatter(\"\"))\n",
      "            #ax.set_ylabel(\"charge (pC)\")\n",
      "            ax.set_xlim([-1, 5])\n",
      "            ax.set_ylim([597, 602])\n",
      "            ax.set_title('charge measurement \\n (dataset %s)'%(col*5+row+1))"
     ],
     "language": "python",
     "metadata": {},
     "outputs": [
      {
       "metadata": {},
       "output_type": "display_data",
       "png": "[encoded data removed]",
       "text": [
        "<matplotlib.figure.Figure at 0x7fb6e4d28950>"
       ]
      }
     ],
     "prompt_number": 8
    },
    {
     "cell_type": "code",
     "collapsed": false,
     "input": [
      "# plotting\n",
      "%matplotlib inline\n",
      "\n",
      "with mpl.rc_context(rc={'font.family':'sans-serif', 'font.weight':'normal', 'font.size':20}):\n",
      "    fig, ax = plt.subplots(nrows=1, figsize=(18, 8), dpi=1000)\n",
      "    ax.xaxis.set_major_formatter(plt.FormatStrFormatter(\"\"))\n",
      "    ax.set_xlabel(\"\")\n",
      "    ax.set_ylabel(\"charge (pC)\")\n",
      "    ax.set_xlim([-1, 5])\n",
      "    ax.set_title('charge measurement')\n",
      "    \n",
      "    for index, i in enumerate(d):\n",
      "        ax.plot(i.iloc[:,4], lw=0.25, ls='-', marker='o', markersize=10, alpha=0.8, label=index+1, color=[1, 0, 0, .5])\n",
      "\n",
      "    ax.legend()"
     ],
     "language": "python",
     "metadata": {},
     "outputs": [
      {
       "metadata": {},
       "output_type": "display_data",
       "png": "[encoded data removed]",
       "text": [
        "<matplotlib.figure.Figure at 0x7fb6e4a53a50>"
       ]
      }
     ],
     "prompt_number": 9
    },
    {
     "cell_type": "markdown",
     "metadata": {},
     "source": [
      "##7 Considera\u00e7\u00f5es finais##\n",
      "\n",
      "* O documento VIM define a repetibilidade da medi\u00e7\u00e3o como \"a fidelidade de medi\u00e7\u00e3o para um conjunto de condi\u00e7\u00f5es de repetibilidade\" e define, por sua vez, a fidelidade de medi\u00e7\u00e3o como \"a aproxima\u00e7\u00e3o entre indica\u00e7\u00f5es ou valores medidos obtidos por medi\u00e7\u00f5es repetidas no mesmo objecto ou objectos semelhantes em condi\u00e7\u00f5es especificadas\". No mesmo documento, \u00e9 referido tamb\u00e9m que a fidelidade de medi\u00e7\u00e3o \u00e9 usualmente expressa na forma num\u00e9rica por caracter\u00edsticas tais como, o desvio-padr\u00e3o, a vari\u00e2ncia, ou o coeficiente de varia\u00e7\u00e3o, nas condi\u00e7\u00f5es especificadas. \n",
      " \n",
      "\n",
      "<!-- \n",
      "A repetibilidade dos resultados (de uma medi\u00e7\u00e3o) como a aproxima\u00e7\u00e3o entre os resultados de medi\u00e7\u00f5es sucessivas de uma mesma mensuranda, efectuadas nas mesmas condi\u00e7\u00f5es de medi\u00e7\u00e3o. Estas condi\u00e7\u00f5es s\u00e3o designadas por condi\u00e7\u00f5es de repetibilidade, e consideram o seguinte: o mesmo procedimento de medi\u00e7\u00e3o, o mesmo observador, o mesmo instrumento de medi\u00e7\u00e3o, usado nas mesmas condi\u00e7\u00f5es, o mesmo local, a repeti\u00e7\u00e3o deve ser realizada durante um curto intervalo de tempo. \n",
      "-->\n",
      "\n",
      "<br />\n",
      "* Mediu-se a carga de ioniza\u00e7\u00e3o gerada numa c\u00e2mara de ioniza\u00e7\u00e3o, tendo-se realizado 10 s\u00e9ries de medidas, em que em cada s\u00e9rie foram feitas 5 medidas. Avaliou-se a repetibilidade da medi\u00e7\u00e3o considerando os resultados seguintes:   \n",
      "    * m\u00e9dia das m\u00e9dias:    599.87 (pC)    \n",
      "    * desvio-padr\u00e3o da m\u00e9dia:  0.33    (pC)   \n",
      "    * coeficiente de varia\u00e7\u00e3o:  0.0005 (%)\n",
      "\n",
      "\n",
      "<br />\n",
      "NOTA        \n",
      "No caso em que as medi\u00e7\u00f5es de carga de ioniza\u00e7\u00e3o s\u00e3o realizadas em dias diferentes, ou seja intervaladas de um tempo dt, h\u00e1 que levar em considera\u00e7\u00e3o a correc\u00e7\u00e3o para a actividade da fonte de Co-60, $C_{A} = e^{(\\frac{ln(2)}{T_{1/2}} \\times dt)}$, em que $T_{1/2}$ \u00e9 o per\u00edodo de semi-desintegra\u00e7\u00e3o do Co-60 em dias e $dt$ \u00e9 o intervalo de tempo entre medi\u00e7\u00f5es.    \n",
      "No caso deste exerc\u00edcio, o intervalo de tempo entre medi\u00e7\u00f5es \u00e9 20 h e o factor de correc\u00e7\u00e3o \u00e9 1.0003.    \n",
      "\n",
      "A t\u00edtulo de exemplo, indica-se a seguir os factores de correc\u00e7\u00e3o para outros intervalos de tempo entre medi\u00e7\u00f5es:    \n",
      "$C_{A}\\text{(t=1 dia)}=$1.00030007265     \n",
      "$C_{A}\\text{(t=1 semana)}=$1.0025234106    \n",
      "$C_{A}\\text{(t=1 m\u00eas)}=$1.01085953623    \n",
      "$C_{A}\\text{(t=1 ano)}=$1.14043766414    "
     ]
    }
   ],
   "metadata": {}
  }
 ]
}
