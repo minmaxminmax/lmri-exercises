{
 "metadata": {
  "name": ""
 },
 "nbformat": 3,
 "nbformat_minor": 0,
 "worksheets": [
  {
   "cells": [
    {
     "cell_type": "markdown",
     "metadata": {},
     "source": [
      "#Calibra\u00e7\u00e3o de c\u00e2mara de ioniza\u00e7\u00e3o na grandeza d\u00e9bito de dose absorvida na \u00e1gua#"
     ]
    },
    {
     "cell_type": "markdown",
     "metadata": {},
     "source": [
      "__Data:__ 25 de Julho 2014    \n",
      "__Autor:__ Gon\u00e7alo Carvalhal"
     ]
    },
    {
     "cell_type": "markdown",
     "metadata": {},
     "source": [
      "##1 Objectivos##"
     ]
    },
    {
     "cell_type": "markdown",
     "metadata": {},
     "source": [
      "Calibrar a cam\u00e2ra de ioniza\u00e7\u00e3o na grandeza d\u00e9bito de dose absorvida na \u00e1gua para a radia\u00e7\u00e3o do Co-60 (calibra\u00e7\u00e3o no \u00e2mbito de radioterapia)"
     ]
    },
    {
     "cell_type": "markdown",
     "metadata": {},
     "source": [
      "##2 Refer\u00eancias##\n",
      "* \"LMRI_PT_1046 - Determina\u00e7\u00e3o do valor verdadeiro da dose absorvida na \u00e1gua para radia\u00e7\u00e3o do Co-60\"  "
     ]
    },
    {
     "cell_type": "markdown",
     "metadata": {},
     "source": [
      "##3 Material e equipamento##"
     ]
    },
    {
     "cell_type": "markdown",
     "metadata": {},
     "source": [
      "**Irradiador**  \n",
      "    Marca e modelo: AECL Eldorado (n\u00ba s\u00e9rie: 211) **(LMRI_EQ_57)**  \n",
      "    Fonte radioactiva: Co-60  \n",
      "    Actividade \u00e0 data de refer\u00eancia: 1.094E2 TBq (2.956 kCi) @ 25 fev 1998\n",
      "\n",
      "**C\u00e2mara de ioniza\u00e7\u00e3o**  \n",
      "Marca, tipo e modelo: PTW Farmer M23332 (n\u00ba s\u00e9rie: 825) **(LMRI_EQ_10)**  \n",
      "<!-- ![C\u00e2mara de ioniza\u00e7\u00e3o PTW Farmer M23332](files/farmer.jpg) -->\n",
      "\n",
      "**Electr\u00f3metro**  \n",
      "Marca e modelo: PTW UNIDOS (n\u00ba s\u00e9rie: 10568) **(LMRI_EQ_23)**\n",
      "\n",
      "**Fantoma (para radioterapia)**  \n",
      "Marca e modelo: PTW 4322 (n\u00ba s\u00e9rie: 56) **(LMRI_EQ_106)**  \n",
      "Dimens\u00f5es exteriores: 30 cm x 30 cm x 30 cm  \n",
      "Volume interior de refer\u00eancia:  \n",
      "Material: acr\u00edlico\n",
      "\n",
      "**Outros**    \n",
      ". bar\u00f3metro digital de precis\u00e3o Negretti M2236 (n\u00ba s\u00e9rie: B1151) **(LMRI_EQ_41)**  \n",
      ". term\u00f3metro digital Comark **(LMRI_EQ_36)**  \n",
      ". higr\u00f3metro Rotronic, modelo A1, RS 205-479 (n\u00ba s\u00e9rie: 205-479) **(LMRI_EQ_60)**  \n",
      ". micr\u00f3metro de interiores de dois pontos Mitutoyo (n\u00ba s\u00e9rie: 32263) **(LMRI_EQ_40)**  \n",
      ". cabo el\u00e9ctrico **(LMRI_EQ_98)**    \n",
      ". \u00e1gua desmineralizada"
     ]
    },
    {
     "cell_type": "markdown",
     "metadata": {},
     "source": [
      "##4 Procedimento##"
     ]
    },
    {
     "cell_type": "markdown",
     "metadata": {},
     "source": [
      "###4.1 Condi\u00e7\u00f5es de calibra\u00e7\u00e3o###\n",
      "Qualidade da radia\u00e7\u00e3o: Co-60  \n",
      "Dist\u00e2ncia fonte-fantoma (SFD): 100 cm  \n",
      "Tamanho nominal do campo de radia\u00e7\u00e3o: 10 cm x 10 cm  \n",
      "Tempo de irradia\u00e7\u00e3o: 60 s   \n",
      "Potencial el\u00e9ctrico aplicado \u00e0 c\u00e2mara de ioniza\u00e7\u00e3o: 400 V\n",
      "Fantoma: PTW 4322  \n",
      "Profundidade: 5 cm (5 g/cm\u00b2)  \n",
      "Condi\u00e7\u00f5es ambientais na sala de irradia\u00e7\u00e3o:  \n",
      ". Temperatura do ar: 18.9 oC  \n",
      ". Press\u00e3o atmosf\u00e9rica: 1010.90 hPa    \n",
      ". Humidade relativa: 60.0 % "
     ]
    },
    {
     "cell_type": "markdown",
     "metadata": {},
     "source": [
      "##5 Formul\u00e1rio##"
     ]
    },
    {
     "cell_type": "markdown",
     "metadata": {},
     "source": [
      "* Factor de correc\u00e7\u00e3o para a press\u00e3o atmosf\u00e9rica e temperatura, $C_{PT}$  \n",
      "$C_{PT} = \\frac{273.15 + T}{293.15}\\cdot\\frac{1013.25}{P}$,    \n",
      "com $T$ a temperatura (em oC) e com $P$ a press\u00e3o atmosf\u00e9rica (em hPa).    \n",
      "\n",
      "<br />\n",
      "* Carga de ioniza\u00e7\u00e3o gerada na c\u00e2mara de ioniza\u00e7\u00e3o em calibra\u00e7\u00e3o, $Q'$    \n",
      "$Q' = Q \\cdot C_{PT}$,    \n",
      "com $Q$ a carga de ioniza\u00e7\u00e3o medida (em C) e com $C_{PT}$ o factor de correc\u00e7\u00e3o para a press\u00e3o atmosf\u00e9rica e temperatura.\n",
      "\n",
      "<br />\n",
      "* Incerteza associada \u00e0 medi\u00e7\u00e3o da carga de ioniza\u00e7\u00e3o gerada na c\u00e2mara de ioniza\u00e7\u00e3o em calibra\u00e7\u00e3o, $u_{Q'}$   \n",
      "$u_{Q'} = C_{PT}\\sqrt{u_{Q}^{2}+(\\frac{Q}{273.15+T})^{2}\\cdot u_{T}^{2}+(\\frac{Q}{P})^{2}\\cdot u_{P}^{2}}$,   \n",
      "com $C_{PT}$ o factor de correc\u00e7\u00e3o para a press\u00e3o atmosf\u00e9rica e temperatura, com $Q$ e $u_{Q}$ a carga de ioniza\u00e7\u00e3o medida e a respectiva incerteza associada (em C), com $T$ e $u_{T}$ a temperatura e a respectiva incerteza associada (em oC) e com $P$ e $u_{P}$ a press\u00e3o atmosf\u00e9rica e respectiva incerteza associada (em hPa).     \n",
      "\n",
      "<!--\n",
      "<br />\n",
      "* Incerteza associada \u00e0 medi\u00e7\u00e3o do valor convencionado verdadeiro para o d\u00e9bito de dose absorvida na \u00e1gua, $u_{\\dot{D}_{w}}$    \n",
      "-->\n",
      "\n",
      "\n",
      "<br />\n",
      "* Coeficiente de calibra\u00e7\u00e3o, $N_{\\dot{D}_{w}}$    \n",
      "$N_{\\dot{D}_{w}}=\\frac{\\dot{D}_{w}}{Q'}$,    \n",
      "com $\\dot{D}_{w}$ o valor convencionado verdadeiro para o d\u00e9bito de dose absorvida na \u00e1gua (em Gy) e com $Q'$ a carga de ioniza\u00e7\u00e3o gerada na c\u00e2mara de ioniza\u00e7\u00e3o em calibra\u00e7\u00e3o (em C).\n",
      "\n",
      "<br />\n",
      "* Incerteza associada \u00e0 medi\u00e7\u00e3o do coeficiente de calibra\u00e7\u00e3o, $u_{N_{\\dot{D}_{w}}}$    \n",
      "$u_{\\dot{D}_{w}} = \\sqrt{ (\\frac{1}{Q'})^{2} \\cdot (u_{\\dot{D}_{w}})^{2} + (\\frac{\\dot{D}_{w}}{Q'^{2}})^{2} \\cdot (u_{Q'})^{2} }$,    \n",
      "com $Q$ e $u_{Q'} $a carga de ioniza\u00e7\u00e3o gerada na c\u00e2mara de ioniza\u00e7\u00e3o em calibra\u00e7\u00e3o e a respectiva incerteza associada (em C) e com $\\dot{D}_{w}$ e $u_{\\dot{D}_{w}}$ o valor convencionado verdadeiro para o d\u00e9bito de dose absorvida na \u00e1gua e a respectiva incerteza associada (em Gy)."
     ]
    },
    {
     "cell_type": "markdown",
     "metadata": {},
     "source": [
      "##6 C\u00e1lculos##"
     ]
    },
    {
     "cell_type": "markdown",
     "metadata": {},
     "source": [
      "###Dados###"
     ]
    },
    {
     "cell_type": "code",
     "collapsed": false,
     "input": [
      "# data\n",
      "# datasets: (temperature (oC), atmospheric pressure (hPa), charge (pC))\n",
      "dataset1 = [\n",
      "(20.1, 1010.90, 535.000),\n",
      "(20.1, 1011.00, 535.000),\n",
      "(20.1, 1011.00, 535.000),\n",
      "(20.1, 1010.70, 535.000),\n",
      "(20.1, 1011.00, 535.000),\n",
      "(20.1, 1010.90, 535.000),\n",
      "(20.1, 1011.00, 535.000),\n",
      "(20.1, 1010.70, 535.000),\n",
      "(20.1, 1011.00, 535.000),\n",
      "(20.1, 1010.00, 535.000)\n",
      "]\n",
      "\n",
      "dataset2 = [\n",
      "(20.1, 1010.60, 534.000),\n",
      "(20.1, 1010.90, 534.500),\n",
      "(20.1, 1010.70, 534.500),\n",
      "(20.1, 1010.90, 534.500),\n",
      "(20.1, 1010.60, 534.500),\n",
      "(20.1, 1010.90, 534.500),\n",
      "(20.1, 1010.60, 534.500),\n",
      "(20.1, 1010.70, 534.500),\n",
      "(20.0, 1010.90, 534.500),\n",
      "(20.1, 1010.80, 534.500)\n",
      "]\n",
      "\n",
      "dataset3 = [\n",
      "(20.1, 1010.70, 534.000),\n",
      "(20.1, 1010.70, 534.500),\n",
      "(20.1, 1010.80, 534.500),\n",
      "(20.1, 1010.80, 534.500),\n",
      "(20.1, 1010.70, 534.500),\n",
      "(20.0, 1010.70, 534.500),\n",
      "(20.1, 1010.80, 534.500),\n",
      "(20.0, 1010.70, 534.500),\n",
      "(20.1, 1010.60, 534.500),\n",
      "(20.0, 1010.60, 534.500)\n",
      "]\n",
      "\n",
      "dataset4 = [\n",
      "(20.0, 1010.60, 535.000),\n",
      "(20.0, 1010.60, 535.000),\n",
      "(20.1, 1010.60, 535.500),\n",
      "(20.0, 1010.60, 535.500),\n",
      "(20.0, 1010.50, 535.500),\n",
      "(20.0, 1010.80, 535.500),\n",
      "(20.0, 1010.70, 535.500),\n",
      "(20.0, 1010.70, 535.500),\n",
      "(20.0, 1010.40, 535.500),\n",
      "(20.0, 1010.80, 535.500)\n",
      "]\n",
      "\n",
      "dataset5 = [\n",
      "(20.0, 1010.7, 534.500),\n",
      "(20.0, 1010.7, 534.500),\n",
      "(20.0, 1010.8, 534.500),\n",
      "(20.0, 1010.7, 534.500),\n",
      "(20.0, 1010.7, 534.500),\n",
      "(20.0, 1010.8, 535.000),\n",
      "(20.0, 1010.6, 534.500),\n",
      "(20.0, 1010.8, 534.500),\n",
      "(20.0, 1010.6, 534.500),\n",
      "(20.0, 1010.7, 534.500)\n",
      "]\n",
      "\n",
      "# background measurements\n",
      "zero_i = [\n",
      "(20.0, 1010.7, 0),\n",
      "(20.0, 1010.7, 0),\n",
      "(20.0, 1010.7, 0),\n",
      "(20.0, 1010.7, 0),\n",
      "(20.0, 1010.7, 0)\n",
      "]\n",
      "\n",
      "zero_f = [\n",
      "(20.0, 1010.7, 0),\n",
      "(20.0, 1010.7, 0),\n",
      "(20.0, 1010.7, 0),\n",
      "(20.0, 1010.7, 0),\n",
      "(20.0, 1010.7, 0)\n",
      "]"
     ],
     "language": "python",
     "metadata": {},
     "outputs": [],
     "prompt_number": 17
    },
    {
     "cell_type": "heading",
     "level": 3,
     "metadata": {},
     "source": [
      "An\u00e1lise de dados"
     ]
    },
    {
     "cell_type": "code",
     "collapsed": false,
     "input": [
      "%%javascript\n",
      "IPython.OutputArea.auto_scroll_threshold = 9999;"
     ],
     "language": "python",
     "metadata": {},
     "outputs": [
      {
       "javascript": [
        "IPython.OutputArea.auto_scroll_threshold = 9999;"
       ],
       "metadata": {},
       "output_type": "display_data",
       "text": [
        "<IPython.core.display.Javascript at 0x7f03b0672290>"
       ]
      }
     ],
     "prompt_number": 18
    },
    {
     "cell_type": "code",
     "collapsed": false,
     "input": [
      "# modules\n",
      "import math\n",
      "import numpy as np\n",
      "import pandas as pd\n",
      "import scipy.stats as st\n",
      "import matplotlib as mpl\n",
      "import matplotlib.pyplot as plt\n",
      "from scipy.optimize import curve_fit\n",
      "from IPython.display import display, Math, HTML"
     ],
     "language": "python",
     "metadata": {},
     "outputs": [],
     "prompt_number": 19
    },
    {
     "cell_type": "code",
     "collapsed": false,
     "input": [
      "# aesthetics\n",
      "#mpl.rcParams.update({'font.family':'STIXGeneral', 'font.weight':'light', 'mathtext.fontset': 'stix', 'font.size': 18})\n",
      "pd.options.display.max_colwidth=180\n",
      "pd.set_option('expand_frame_repr', False)"
     ],
     "language": "python",
     "metadata": {},
     "outputs": [],
     "prompt_number": 20
    },
    {
     "cell_type": "code",
     "collapsed": false,
     "input": [
      "# functions\n",
      "def k_pt(temp, p):\n",
      "    return ((temp+273.15)/293.15)*(1013.25/p)\n",
      "\n",
      "def k_ptdataset(dataset):\n",
      "    return ((dataset[0]+273.15)/293.15) *(1013.25/ dataset[1])"
     ],
     "language": "python",
     "metadata": {},
     "outputs": [],
     "prompt_number": 21
    },
    {
     "cell_type": "code",
     "collapsed": false,
     "input": [
      "datasets=[dataset1, dataset2, dataset3, dataset4, dataset5]\n",
      "index = [i for i in range(1,len(dataset1)+1)]\n",
      "columns = ['temperatura (oC)', 'press\u00e3o atmosf\u00e9rica (hPa)', 'carga (pC)',]\n",
      "\n",
      "df1 = pd.DataFrame(dataset1, columns=columns, index=index)\n",
      "df2 = pd.DataFrame(dataset2, columns=columns, index=index)\n",
      "df3 = pd.DataFrame(dataset3, columns=columns, index=index)\n",
      "df4 = pd.DataFrame(dataset4, columns=columns, index=index)\n",
      "df5 = pd.DataFrame(dataset5, columns=columns, index=index)\n",
      "\n",
      "df1['CPT'] = df1.apply(k_ptdataset, axis=1)\n",
      "df1['corr_charge (pC)'] = df1['carga (pC)']*df1['CPT']\n",
      "df2['CPT'] = df2.apply(k_ptdataset, axis=1)\n",
      "df2['corr_charge (pC)'] = df2['carga (pC)']*df2['CPT']\n",
      "df3['CPT'] = df3.apply(k_ptdataset, axis=1)\n",
      "df3['corr_charge (pC)'] = df3['carga (pC)']*df3['CPT']\n",
      "df4['CPT'] = df4.apply(k_ptdataset, axis=1)\n",
      "df4['corr_charge (pC)'] = df4['carga (pC)']*df4['CPT']\n",
      "df5['CPT'] = df5.apply(k_ptdataset, axis=1)\n",
      "df5['corr_charge (pC)'] = df5['carga (pC)']*df5['CPT']\n",
      "\n",
      "d = [df1, df2, df3, df4, df5]\n",
      "data = d\n",
      "\n",
      "for i in data:\n",
      "    i['CPT'] = np.round(i['CPT'],2)\n",
      "    i['corr_charge (pC)'] = np.round(i['corr_charge (pC)'],1)\n",
      "\n",
      "data = pd.concat(data, keys=[i for i in range(1, len(data)+1)], names=['# Repetition'])"
     ],
     "language": "python",
     "metadata": {},
     "outputs": [],
     "prompt_number": 22
    },
    {
     "cell_type": "code",
     "collapsed": false,
     "input": [
      "# data summary\n",
      "m = []\n",
      "s = []\n",
      "\n",
      "print \"\\n\"\n",
      "for index, i in enumerate(d):\n",
      "    mean = np.round(i['corr_charge (pC)'].mean(), 1)\n",
      "    var = np.round(i['corr_charge (pC)'].var(), 1)\n",
      "    sdev = np.round(i['corr_charge (pC)'].std(), 1)\n",
      "    cv = np.round(sdev/mean, 4)*100\n",
      "    \n",
      "    m.append(mean)\n",
      "    s.append(sdev)\n",
      "    \n",
      "    print \"dataset\",index+1\n",
      "    print \"----------------------------------------------------------------------------------\"\n",
      "    print i\n",
      "    print \"\\n\"\n",
      "    print \"m\u00e9dia: %.1f pC\"%mean\n",
      "    #print \"vari\u00e2ncia:\", var\n",
      "    print \"desvio-padr\u00e3o: %.1f pC\" %sdev\n",
      "    print \"coeficiente de varia\u00e7\u00e3o (%):\", cv\n",
      "    print \"----------------------------------------------------------------------------------\"\n",
      "    print \"\\n\""
     ],
     "language": "python",
     "metadata": {},
     "outputs": [
      {
       "output_type": "stream",
       "stream": "stdout",
       "text": [
        "\n",
        "\n",
        "dataset 1\n",
        "----------------------------------------------------------------------------------\n",
        "    temperatura (oC)  press\u00e3o atmosf\u00e9rica (hPa)  carga (pC)  CPT  corr_charge (pC)\n",
        "1               20.1                     1010.9         535    1             536.4\n",
        "2               20.1                     1011.0         535    1             536.4\n",
        "3               20.1                     1011.0         535    1             536.4\n",
        "4               20.1                     1010.7         535    1             536.5\n",
        "5               20.1                     1011.0         535    1             536.4\n",
        "6               20.1                     1010.9         535    1             536.4\n",
        "7               20.1                     1011.0         535    1             536.4\n",
        "8               20.1                     1010.7         535    1             536.5\n",
        "9               20.1                     1011.0         535    1             536.4\n",
        "10              20.1                     1010.0         535    1             536.9\n",
        "\n",
        "\n",
        "m\u00e9dia: 536.5 pC\n",
        "desvio-padr\u00e3o: 0.2 pC\n",
        "coeficiente de varia\u00e7\u00e3o (%): 0.04\n",
        "----------------------------------------------------------------------------------\n",
        "\n",
        "\n",
        "dataset 2\n",
        "----------------------------------------------------------------------------------\n",
        "    temperatura (oC)  press\u00e3o atmosf\u00e9rica (hPa)  carga (pC)  CPT  corr_charge (pC)\n",
        "1               20.1                     1010.6       534.0    1             535.6\n",
        "2               20.1                     1010.9       534.5    1             535.9\n",
        "3               20.1                     1010.7       534.5    1             536.0\n",
        "4               20.1                     1010.9       534.5    1             535.9\n",
        "5               20.1                     1010.6       534.5    1             536.1\n",
        "6               20.1                     1010.9       534.5    1             535.9\n",
        "7               20.1                     1010.6       534.5    1             536.1\n",
        "8               20.1                     1010.7       534.5    1             536.0\n",
        "9               20.0                     1010.9       534.5    1             535.7\n",
        "10              20.1                     1010.8       534.5    1             536.0\n",
        "\n",
        "\n",
        "m\u00e9dia: 535.9 pC\n",
        "desvio-padr\u00e3o: 0.2 pC\n",
        "coeficiente de varia\u00e7\u00e3o (%): 0.04\n",
        "----------------------------------------------------------------------------------\n",
        "\n",
        "\n",
        "dataset 3\n",
        "----------------------------------------------------------------------------------\n",
        "    temperatura (oC)  press\u00e3o atmosf\u00e9rica (hPa)  carga (pC)  CPT  corr_charge (pC)\n",
        "1               20.1                     1010.7       534.0    1             535.5\n",
        "2               20.1                     1010.7       534.5    1             536.0\n",
        "3               20.1                     1010.8       534.5    1             536.0\n",
        "4               20.1                     1010.8       534.5    1             536.0\n",
        "5               20.1                     1010.7       534.5    1             536.0\n",
        "6               20.0                     1010.7       534.5    1             535.8\n",
        "7               20.1                     1010.8       534.5    1             536.0\n",
        "8               20.0                     1010.7       534.5    1             535.8\n",
        "9               20.1                     1010.6       534.5    1             536.1\n",
        "10              20.0                     1010.6       534.5    1             535.9\n",
        "\n",
        "\n",
        "m\u00e9dia: 535.9 pC\n",
        "desvio-padr\u00e3o: 0.2 pC\n",
        "coeficiente de varia\u00e7\u00e3o (%): 0.04\n",
        "----------------------------------------------------------------------------------\n",
        "\n",
        "\n",
        "dataset 4\n",
        "----------------------------------------------------------------------------------\n",
        "    temperatura (oC)  press\u00e3o atmosf\u00e9rica (hPa)  carga (pC)  CPT  corr_charge (pC)\n",
        "1               20.0                     1010.6       535.0    1             536.4\n",
        "2               20.0                     1010.6       535.0    1             536.4\n",
        "3               20.1                     1010.6       535.5    1             537.1\n",
        "4               20.0                     1010.6       535.5    1             536.9\n",
        "5               20.0                     1010.5       535.5    1             537.0\n",
        "6               20.0                     1010.8       535.5    1             536.8\n",
        "7               20.0                     1010.7       535.5    1             536.9\n",
        "8               20.0                     1010.7       535.5    1             536.9\n",
        "9               20.0                     1010.4       535.5    1             537.0\n",
        "10              20.0                     1010.8       535.5    1             536.8\n",
        "\n",
        "\n",
        "m\u00e9dia: 536.8 pC\n",
        "desvio-padr\u00e3o: 0.2 pC\n",
        "coeficiente de varia\u00e7\u00e3o (%): 0.04\n",
        "----------------------------------------------------------------------------------\n",
        "\n",
        "\n",
        "dataset 5\n",
        "----------------------------------------------------------------------------------\n",
        "    temperatura (oC)  press\u00e3o atmosf\u00e9rica (hPa)  carga (pC)  CPT  corr_charge (pC)\n",
        "1                 20                     1010.7       534.5    1             535.8\n",
        "2                 20                     1010.7       534.5    1             535.8\n",
        "3                 20                     1010.8       534.5    1             535.8\n",
        "4                 20                     1010.7       534.5    1             535.8\n",
        "5                 20                     1010.7       534.5    1             535.8\n",
        "6                 20                     1010.8       535.0    1             536.3\n",
        "7                 20                     1010.6       534.5    1             535.9\n",
        "8                 20                     1010.8       534.5    1             535.8\n",
        "9                 20                     1010.6       534.5    1             535.9\n",
        "10                20                     1010.7       534.5    1             535.8\n",
        "\n",
        "\n",
        "m\u00e9dia: 535.9 pC\n",
        "desvio-padr\u00e3o: 0.2 pC\n",
        "coeficiente de varia\u00e7\u00e3o (%): 0.04\n",
        "----------------------------------------------------------------------------------\n",
        "\n",
        "\n"
       ]
      }
     ],
     "prompt_number": 23
    },
    {
     "cell_type": "markdown",
     "metadata": {},
     "source": [
      "###Gr\u00e1ficos###"
     ]
    },
    {
     "cell_type": "code",
     "collapsed": false,
     "input": [
      "# plotting\n",
      "%matplotlib inline\n",
      "\n",
      "with mpl.rc_context(rc={'font.family':'sans-serif', 'font.weight':'normal', 'font.size':20}):\n",
      "    fig, axes = plt.subplots(nrows=5, ncols=1, figsize=(16, 8), dpi=1000)\n",
      "\n",
      "    for row, ax in enumerate(axes):\n",
      "        ax.plot(d[row].iloc[:,4], lw=0.25, ls='-', marker='o', markersize=10, color=[1, 0, 0, .6])\n",
      "        ax.xaxis.set_major_formatter(plt.FormatStrFormatter(\"\"))\n",
      "        ax.set_ylabel(\"charge (pC)\")\n",
      "        ax.set_xlim([-1, 11])\n",
      "        ax.set_ylim([534, 538])\n",
      "        ax.set_title('charge measurement')\n",
      "        ax.legend('%s'%(row+1))"
     ],
     "language": "python",
     "metadata": {},
     "outputs": [
      {
       "metadata": {},
       "output_type": "display_data",
       "png": "[encoded data removed]",
       "text": [
        "<matplotlib.figure.Figure at 0x7f03b0b7e7d0>"
       ]
      }
     ],
     "prompt_number": 24
    },
    {
     "cell_type": "code",
     "collapsed": false,
     "input": [
      "# plotting\n",
      "%matplotlib inline\n",
      "\n",
      "with mpl.rc_context(rc={'font.family':'sans-serif', 'font.weight':'normal', 'font.size':20}):\n",
      "    fig, ax = plt.subplots(nrows=1, figsize=(16, 8), dpi=1000)\n",
      "    ax.set_title('charge measurement \\n (mean value for each dataset)', fontsize=20)\n",
      "    ax.set_xlabel('', fontsize=20)\n",
      "    ax.set_ylabel('charge (pC)', fontsize=20)\n",
      "    ax.set_xlim([0, 6])\n",
      "    ax.set_ylim([535, 537])\n",
      "    plt.annotate('NB: uncertainties coverage factor, k=2', xy=(0.05, 0.05), xycoords='axes fraction')\n",
      "    \n",
      "    for index, i in enumerate(d):\n",
      "        k = 2\n",
      "        s_m_k = (s[index]/np.sqrt(10))*k\n",
      "        ax.errorbar(index+1, m[index], yerr=s_m_k, lw=0.25, ls='-', marker='o', markersize=5, color=[1, 0, 0, .8])"
     ],
     "language": "python",
     "metadata": {},
     "outputs": [
      {
       "metadata": {},
       "output_type": "display_data",
       "png": "[encoded data removed]",
       "text": [
        "<matplotlib.figure.Figure at 0x7f03b0b75890>"
       ]
      }
     ],
     "prompt_number": 30
    },
    {
     "cell_type": "markdown",
     "metadata": {},
     "source": [
      "###Determina\u00e7\u00e3o do valor convencionado verdadeiro para o d\u00e9bito de dose na \u00e1gua###"
     ]
    },
    {
     "cell_type": "code",
     "collapsed": false,
     "input": [
      "vcv = 5.553e-2\n",
      "u_vcv = 2.3e-4 #2.277e-4\n",
      "\n",
      "print '\\n'\n",
      "print 'Valor convencionado verdadeiro para o d\u00e9bito de dose absorvida na \u00e1gua: %.3E +- %.1E (Gy)'%(vcv, u_vcv)\n",
      "print '\\n'"
     ],
     "language": "python",
     "metadata": {},
     "outputs": [
      {
       "output_type": "stream",
       "stream": "stdout",
       "text": [
        "\n",
        "\n",
        "Valor convencionado verdadeiro para o d\u00e9bito de dose absorvida na \u00e1gua: 5.553E-02 +- 2.3E-04 (Gy)\n",
        "\n",
        "\n"
       ]
      }
     ],
     "prompt_number": 32
    },
    {
     "cell_type": "markdown",
     "metadata": {},
     "source": [
      "__Resumo de incertezas associadas \u00e0s medi\u00e7\u00f5es com instrumento padr\u00e3o de calibra\u00e7\u00e3o__\n",
      "\n",
      "componente | estimativa | unidades | tipo de estimativa | distribui\u00e7\u00e3o de probabilidade | incerteza-padr\u00e3o | coeficiente de sensibilidade\n",
      "-| - | - | - | - | - | - |\n",
      "coeficiente de calibra\u00e7\u00e3o |5.363E+07 |Gy/C |A |gaussiana |1.6E5 |1.367E-9\n",
      "medida |1.372E-09 |C |A |gaussiana | 7.510E-14| 5.345E-7\n",
      "press\u00e3o atmosf\u00e9rica |1016.6 |hPa |A |rectangular | 0.05| -7.21E-5\n",
      "temperatura |20 |$^o$C |A |rectangular | 0.03| 2.501E-4\n",
      "humidade relativa |- | - |A |rectangular | 0.0002| 7.332E-2\n",
      "dist\u00e2ncia fonte-detector |- |- |A |rectangular | 1.372E-12| 5.345E7\n",
      "tamanho do campo | - |- |A |rectangular | 0.0003| 7.332E-2\n",
      "distor\u00e7\u00e3o da janela do fantoma de \u00e1gua |- |- |B |rectangular | 0.0027| 7.332E-2\n"
     ]
    },
    {
     "cell_type": "markdown",
     "metadata": {},
     "source": [
      "###C\u00e1lculo da carga de ioniza\u00e7\u00e3o gerada na c\u00e2mara de ioniza\u00e7\u00e3o em calibra\u00e7\u00e3o###\n",
      "\n",
      "* Carga de ioniza\u00e7\u00e3o gerada na c\u00e2mara de ioniza\u00e7\u00e3o em calibra\u00e7\u00e3o,    \n",
      "$Q' = Q \\cdot C_{PT}$.\n",
      "\n",
      "<br />\n",
      "* Incerteza associada \u00e0 medi\u00e7\u00e3o da carga de ioniza\u00e7\u00e3o do equipamento a calibrar,    \n",
      "$u_{Q'} = C_{PT}\\sqrt{u_{Q}^{2}+(\\frac{Q}{273.15+T})^{2}\\cdot u_{T}^{2}+(\\frac{Q}{P})^{2}\\cdot u_{P}^{2}}$.  "
     ]
    },
    {
     "cell_type": "code",
     "collapsed": true,
     "input": [
      "# calculations\n",
      "def unc_corr_charge(q, unc_q, temp, unc_temp, p, unc_p):\n",
      "    # coeficientes de sensibilidade (Q, t, p)\n",
      "    print 'kpt: ', k_pt(temp, p)\n",
      "    print 'coef. sensibilidade referente \u00e0 incerteza associada \u00e0 carga medida:', k_pt(temp, p)\n",
      "    print 'coef. sensibilidade referente \u00e0 incerteza associada \u00e0 temperatura:', k_pt(temp, p)*(k_pt(temp, p)*q/(273.15+temp))\n",
      "    print 'coef. sensibilidade referente \u00e0 incerteza associada \u00e0 press\u00e3o atmosf\u00e9rica:',k_pt(temp, p)*(q/(p)) \n",
      "    \n",
      "    return k_pt(temp, p)*math.sqrt(unc_q**2 + ((k_pt(temp, p)*q/(273.15+temp))**2)*unc_temp**2 +((q/(p))**2)*unc_p**2)\n",
      "\n",
      "mean_corr_charge = np.round(np.mean(m), 1)*1e-12 #FIXME: rounding off is not working\n",
      "sdev_corr_charge = np.round(np.std(m), 1)*1e-12  #FIXME: rounding off is not working\n",
      "sdev_mean_corr_charge = sdev_corr_charge/math.sqrt(50)\n",
      "\n",
      "print 'estimativa da medida (C):', mean_corr_charge\n",
      "print 'incerteza-padr\u00e3o da medida (C):', sdev_mean_corr_charge\n",
      "print '\\n'\n",
      "\n",
      "temp = 20.0\n",
      "u_temp = 0.03\n",
      "p = 1010.7\n",
      "u_p = 0.05\n",
      "\n",
      "u_mean_corr_charge = unc_corr_charge(mean_corr_charge, sdev_mean_corr_charge, temp, u_temp, p, u_p)\n",
      "\n",
      "print '\\n'\n",
      "print 'Carga de ioniza\u00e7\u00e3o gerada na c\u00e2mara de ioniza\u00e7\u00e3o em calibra\u00e7\u00e3o: %.3E +- %.4E (C)'%(mean_corr_charge, u_mean_corr_charge)\n",
      "print '\\n'"
     ],
     "language": "python",
     "metadata": {},
     "outputs": [
      {
       "output_type": "stream",
       "stream": "stdout",
       "text": [
        "estimativa da medida (C): 5.362e-10\n",
        "incerteza-padr\u00e3o da medida (C): 5.65685424949e-14\n",
        "\n",
        "\n",
        "kpt:  1.00252300386\n",
        "coef. sensibilidade referente \u00e0 incerteza associada \u00e0 carga medida: 1.00252300386\n",
        "coef. sensibilidade referente \u00e0 incerteza associada \u00e0 temperatura: 1.83833901602e-12\n",
        "coef. sensibilidade referente \u00e0 incerteza associada \u00e0 press\u00e3o atmosf\u00e9rica: 5.31861912208e-13\n",
        "\n",
        "\n",
        "Carga de ioniza\u00e7\u00e3o gerada na c\u00e2mara de ioniza\u00e7\u00e3o em calibra\u00e7\u00e3o: 5.362E-10 +- 8.3456E-14 (C)\n",
        "\n",
        "\n"
       ]
      }
     ],
     "prompt_number": 35
    },
    {
     "cell_type": "markdown",
     "metadata": {},
     "source": [
      "__Resumo de incertezas associadas \u00e0s medi\u00e7\u00f5es com c\u00e2mara de ioniza\u00e7\u00e3o em calibra\u00e7\u00e3o__\n",
      "\n",
      "componente | estimativa | unidades | tipo de estimativa | distribui\u00e7\u00e3o de probabilidade | incerteza-padr\u00e3o | coeficiente de sensibilidade\n",
      "-| - | - | - | - | - | - |\n",
      "medida, Q |5.362E-10 |C |A |gaussiana | 5.515E-14| 1.003 \n",
      "press\u00e3o atmosf\u00e9rica, P |1010.7 |hPa |A |rectangular | 0.05| -5.319E-13  \n",
      "temperatura, T |20.0 |$^o$C |A |rectangular | 0.03| 1.838E-12\n",
      "humidade relativa |- |- |A |rectangular | 0.0002| 5.3754E-10\n",
      "dist\u00e2ncia fonte-detector |- |- |A |rectangular | 0.001| 5.3754E-10\n",
      "tamanho do campo |- |- |A |rectangular | 0.0003| 5.3754E-10\n",
      "distor\u00e7\u00e3o da janela do fantoma de \u00e1gua |- |- |B |rectangular | 0.001| 5.3754E-10 "
     ]
    },
    {
     "cell_type": "markdown",
     "metadata": {},
     "source": [
      "###Determina\u00e7\u00e3o do coeficiente de calibra\u00e7\u00e3o###\n",
      "\n",
      "* Coeficiente de calibra\u00e7\u00e3o,    \n",
      "$N_{\\dot{D}_{w}}=\\frac{\\dot{D}_{w}}{Q'}$.    \n",
      "\n",
      "* Incerteza associada \u00e0 medi\u00e7\u00e3o do coeficiente de calibra\u00e7\u00e3o    \n",
      "$u_{N_{\\dot{D}_{w}}} = \\sqrt{ (\\frac{1}{Q'})^{2} \\cdot (u_{\\dot{D}_{w}})^{2} + (\\frac{\\dot{D}_{w}}{Q'^{2}})^{2} \\cdot (u_{Q'})^{2} }$."
     ]
    },
    {
     "cell_type": "code",
     "collapsed": false,
     "input": [
      "# calculations\n",
      "def unc_ccalib(vcv, u_vcv, q, u_q):\n",
      "    print 'valor convencionado verdadeiro para o kerma no ar (Gy): ', vcv\n",
      "    print 'incerteza associada ao valor convencionado verdadeiro para o kerma no ar (Gy):', u_vcv\n",
      "    print 'carga de ioniza\u00e7\u00e3o gerada na c\u00e2mara de ioniza\u00e7\u00e3o em calibra\u00e7\u00e3o (C):', q\n",
      "    print 'incerteza associada \u00e0 carga de ioniza\u00e7\u00e3o gerada na c\u00e2mara de ioniza\u00e7\u00e3o em calibra\u00e7\u00e3o (C):', u_q\n",
      "    print '\\n'\n",
      "    return math.sqrt(((1/q)**2)*(u_vcv)**2 + ((vcv/q**2)**2)*(u_q)**2)\n",
      "\n",
      "ccalib = (vcv/(mean_corr_charge))\n",
      "\n",
      "print '\\n'\n",
      "print 'Coeficiente de calibra\u00e7\u00e3o: %.3E +- %.3E (Gy/C)'%(ccalib, unc_ccalib(vcv, u_vcv, mean_corr_charge, u_mean_corr_charge))\n",
      "print '\\n'\n"
     ],
     "language": "python",
     "metadata": {},
     "outputs": [
      {
       "output_type": "stream",
       "stream": "stdout",
       "text": [
        "\n",
        "\n",
        "valor convencionado verdadeiro para o kerma no ar (Gy):  0.05553\n",
        "incerteza associada ao valor convencionado verdadeiro para o kerma no ar (Gy): 0.00023\n",
        "carga de ioniza\u00e7\u00e3o gerada na c\u00e2mara de ioniza\u00e7\u00e3o em calibra\u00e7\u00e3o (C): 5.362e-10\n",
        "incerteza associada \u00e0 carga de ioniza\u00e7\u00e3o gerada na c\u00e2mara de ioniza\u00e7\u00e3o em calibra\u00e7\u00e3o (C): 8.34559862e-14\n",
        "\n",
        "\n",
        "Coeficiente de calibra\u00e7\u00e3o: 1.036E+08 +- 4.292E+05 (Gy/C)\n",
        "\n",
        "\n"
       ]
      }
     ],
     "prompt_number": 36
    },
    {
     "cell_type": "markdown",
     "metadata": {},
     "source": [
      "##7 Considera\u00e7\u00f5es finais##\n",
      "###Resumo de resultados###    \n",
      "\n",
      "Valor convencionado verdadeiro para dose absorvida na \u00e1gua: 5.553E-2 $\\pm$ 2.3E-4 (Gy)\n",
      "\n",
      "Carga de ioniza\u00e7\u00e3o gerada na c\u00e2mara de ioniza\u00e7\u00e3o em calibra\u00e7\u00e3o: 5.362E-10 $\\pm$ 8.346E-14 (C)    \n",
      "\n",
      "Coeficiente de calibra\u00e7\u00e3o: 1.036E8 $\\pm$ 4.292E5 (Gy/C)"
     ]
    }
   ],
   "metadata": {}
  }
 ]
}
