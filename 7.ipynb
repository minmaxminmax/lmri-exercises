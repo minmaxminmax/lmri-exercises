{
 "metadata": {
  "name": ""
 },
 "nbformat": 3,
 "nbformat_minor": 0,
 "worksheets": [
  {
   "cells": [
    {
     "cell_type": "markdown",
     "metadata": {},
     "source": [
      "#Calibra\u00e7\u00e3o de c\u00e2mara de ioniza\u00e7\u00e3o na grandeza kerma no ar#"
     ]
    },
    {
     "cell_type": "markdown",
     "metadata": {},
     "source": [
      "__Data:__ 23 de Julho 2014    \n",
      "__Autor:__ Gon\u00e7alo Carvalhal"
     ]
    },
    {
     "cell_type": "markdown",
     "metadata": {},
     "source": [
      "##1 Objectivos##"
     ]
    },
    {
     "cell_type": "markdown",
     "metadata": {},
     "source": [
      "Calibrar a cam\u00e2ra de ioniza\u00e7\u00e3o na grandeza kerma no ar"
     ]
    },
    {
     "cell_type": "markdown",
     "metadata": {},
     "source": [
      "##2 Refer\u00eancias##\n",
      "* \"LMRI_PT_10005 - Calibra\u00e7\u00e3o de dos\u00edmetro de refer\u00eancia em kerma no ar para a radia\u00e7\u00e3o do 60Co contra padr\u00e3o prim\u00e1rio\""
     ]
    },
    {
     "cell_type": "markdown",
     "metadata": {},
     "source": [
      "##3 Material e equipamento##"
     ]
    },
    {
     "cell_type": "markdown",
     "metadata": {},
     "source": [
      "**Irradiador**  \n",
      "    Marca e modelo: AECL Eldorado (n\u00ba s\u00e9rie: 211) **(LMRI_EQ_57)**  \n",
      "    Fonte radioactiva: Co-60  \n",
      "    Actividade \u00e0 data de refer\u00eancia: 1.094E2 TBq (2.956 kCi) @ 25 fev 1998\n",
      "\n",
      "**C\u00e2mara de ioniza\u00e7\u00e3o**  \n",
      "Marca, tipo e modelo: PTW Farmer M23332 (n\u00ba s\u00e9rie: 825) **(LMRI_EQ_10)**  \n",
      "<!-- ![C\u00e2mara de ioniza\u00e7\u00e3o PTW Farmer M23332](files/farmer.jpg) -->\n",
      "\n",
      "**Electr\u00f3metro**  \n",
      "Marca e modelo: PTW UNIDOS (n\u00ba s\u00e9rie: 10568) **(LMRI_EQ_23)**\n",
      "\n",
      "**Outros**    \n",
      ". bar\u00f3metro digital de precis\u00e3o Negretti M2236 (n\u00ba s\u00e9rie: B1151) **(LMRI_EQ_41)**  \n",
      ". term\u00f3metro digital Comark **(LMRI_EQ_36)**  \n",
      ". higr\u00f3metro Rotronic, modelo A1, RS 205-479 (n\u00ba s\u00e9rie: xxx) **(LMRI_EQ_xxx)**  \n",
      ". micr\u00f3metro de interiores de dois pontos Mitutoyo (n\u00ba s\u00e9rie: 32263) **(LMRI_EQ_40)**  \n",
      ". cabo el\u00e9ctrico **(LMRI_EQ_98)**    "
     ]
    },
    {
     "cell_type": "markdown",
     "metadata": {},
     "source": [
      "##4 Procedimento##"
     ]
    },
    {
     "cell_type": "markdown",
     "metadata": {},
     "source": [
      "###4.1 Condi\u00e7\u00f5es de calibra\u00e7\u00e3o###\n",
      "Qualidade da radia\u00e7\u00e3o: Co-60  \n",
      "Dist\u00e2ncia fonte-c\u00e2mara (SCD): 100 cm  \n",
      "Tamanho nominal do campo de radia\u00e7\u00e3o: 10 cm x 10 cm  \n",
      "Tempo de irradia\u00e7\u00e3o: 60 s   \n",
      "Potencial el\u00e9ctrico aplicado \u00e0 c\u00e2mara de ioniza\u00e7\u00e3o: 400 V    \n",
      "Fantoma: PTW 4322  \n",
      "Profundidade: 5 cm (5 g/cm\u00b2)  \n",
      "Condi\u00e7\u00f5es ambientais na sala de irradia\u00e7\u00e3o:  \n",
      ". Temperatura: 19.6 oC  \n",
      ". Press\u00e3o atmosf\u00e9rica: 1012.70 hPa    \n",
      ". Humidade relativa: 53.6 %"
     ]
    },
    {
     "cell_type": "markdown",
     "metadata": {},
     "source": [
      "##5 Formul\u00e1rio##"
     ]
    },
    {
     "cell_type": "markdown",
     "metadata": {},
     "source": [
      "* Factor de correc\u00e7\u00e3o para a press\u00e3o atmosf\u00e9rica e temperatura, $C_{PT}$  \n",
      "$C_{PT} = \\frac{273.15 + T}{293.15}\\cdot\\frac{1013.25}{P}$,    \n",
      "com $T$ a temperatura (em oC) e com $P$ a press\u00e3o atmosf\u00e9rica (em hPa).    \n",
      "\n",
      "<br />\n",
      "* Carga de ioniza\u00e7\u00e3o do equipamento a calibrar, $Q'$    \n",
      "$Q' = Q \\cdot C_{PT}$,    \n",
      "com $Q$ a carga de ioniza\u00e7\u00e3o medida (em C) e com $C_{PT}$ o factor de correc\u00e7\u00e3o para a press\u00e3o atmosf\u00e9rica e temperatura.\n",
      "\n",
      "<br />\n",
      "* Incerteza associada \u00e0 medi\u00e7\u00e3o da carga de ioniza\u00e7\u00e3o do equipamento a calibrar, $u_{Q'}$   \n",
      "$u_{Q'} = C_{PT}\\sqrt{u_{Q}^{2}+(\\frac{Q}{273.15+T})^{2}\\cdot u_{T}^{2}+(\\frac{Q}{P})^{2}\\cdot u_{P}^{2}}$,   \n",
      "com $C_{PT}$ o factor de correc\u00e7\u00e3o para a press\u00e3o atmosf\u00e9rica e temperatura, com $Q$ e $u_{Q}$ a carga de ioniza\u00e7\u00e3o medida e a respectiva incerteza associada (em C), com $T$ e $u_{T}$ a temperatura e a respectiva incerteza associada (em oC) e com $P$ e $u_{P}$ a press\u00e3o atmosf\u00e9rica e respectiva incerteza associada (em hPa).     \n",
      "\n",
      "<!--\n",
      "<br />\n",
      "* Incerteza associada \u00e0 medi\u00e7\u00e3o do valor convencionado verdadeiro para o kerma no ar, $u_{K_{air}}$    \n",
      "-->\n",
      "\n",
      "\n",
      "<br />\n",
      "* Coeficiente de calibra\u00e7\u00e3o, $N_{K_{air}}$    \n",
      "$N_{K_{air}}=\\frac{K_{air}}{Q'}$,    \n",
      "com $K_{air}$ o valor convencionado verdadeiro para o kerma no ar (em Gy) e com $Q'$ a carga de ioniza\u00e7\u00e3o gerada na c\u00e2mara de ioniza\u00e7\u00e3o em calibra\u00e7\u00e3o (em C).\n",
      "\n",
      "<br />\n",
      "* Incerteza associada \u00e0 medi\u00e7\u00e3o do coeficiente de calibra\u00e7\u00e3o, $u_{N_{K_{air}}}$    \n",
      "$u_{N_{K_{air}}} = \\sqrt{ (\\frac{1}{Q'})^{2} \\cdot (u_{K_{air}})^{2} + (\\frac{-K_{air}}{Q'^{2}})^{2} \\cdot (u_{Q'})^{2} }$,    \n",
      "com $M$ e $u_{Q'} $a carga de ioniza\u00e7\u00e3o gerada na c\u00e2mara de ioniza\u00e7\u00e3o em calibra\u00e7\u00e3o e a respectiva incerteza associada (em C) e com $K_{air}$ e $u_{K_{air}}$ o valor convencionado verdadeiro para o kerma no ar e a respectiva incerteza associada (em Gy).       \n",
      "\n",
      "\n"
     ]
    },
    {
     "cell_type": "markdown",
     "metadata": {},
     "source": [
      "##6 C\u00e1lculos##"
     ]
    },
    {
     "cell_type": "markdown",
     "metadata": {},
     "source": [
      "###Dados###"
     ]
    },
    {
     "cell_type": "code",
     "collapsed": false,
     "input": [
      "# data\n",
      "# datasets: (temperature (oC), atmospheric pressure (hPa), charge (pC))\n",
      "dataset1 = [\n",
      "(19.4, 1012.8, 593.500),\n",
      "(19.5, 1013.0, 593.500),\n",
      "(19.4, 1012.9, 593.500),\n",
      "(19.4, 1013.1, 593.500),\n",
      "(19.5, 1012.9, 593.500),\n",
      "(19.6, 1013.0, 593.500),\n",
      "(19.6, 1012.9, 593.500),\n",
      "(19.5, 1012.9, 593.500),\n",
      "(19.4, 1013.1, 593.500),\n",
      "(19.5, 1012.9, 593.500)\n",
      "]\n",
      "\n",
      "dataset2 = [\n",
      "(19.6, 1013.2, 590.500),\n",
      "(19.6, 1013.2, 590.500),\n",
      "(19.4, 1013.3, 591.500),\n",
      "(19.6, 1013.1, 591.000),\n",
      "(19.7, 1012.9, 591.000),\n",
      "(19.6, 1013.2, 591.000),\n",
      "(19.6, 1013.2, 590.500),\n",
      "(19.6, 1013.0, 590.500),\n",
      "(19.6, 1013.2, 591.000),\n",
      "(19.5, 1013.2, 591.000)\n",
      "]\n",
      "\n",
      "dataset3 = [           \n",
      "(19.5, 1013.0, 591.000),\n",
      "(19.6, 1013.2, 591.500),\n",
      "(19.6, 1013.3, 591.500),\n",
      "(19.5, 1013.3, 591.500),\n",
      "(19.5, 1013.1, 591.500),\n",
      "(19.6, 1013.3, 591.500),\n",
      "(19.6, 1013.0, 591.500),\n",
      "(19.5, 1013.2, 591.500),\n",
      "(19.6, 1013.0, 591.000),\n",
      "(19.6, 1013.3, 591.500)\n",
      "]\n",
      "\n",
      "dataset4 = [\n",
      "(19.7, 1013.3, 590.500),\n",
      "(19.5, 1013.3, 591.000),\n",
      "(19.7, 1013.3, 590.500),\n",
      "(19.5, 1013.1, 590.500),\n",
      "(19.5, 1013.1, 590.500),\n",
      "(19.6, 1013.4, 591.000),\n",
      "(19.6, 1013.3, 591.000),\n",
      "(19.6, 1013.0, 591.000),\n",
      "(19.6, 1013.0, 591.000),\n",
      "(19.6, 1013.1, 591.000)\n",
      "]\n",
      "\n",
      "dataset5 = [\n",
      "(19.6, 1013.3, 591.000),\n",
      "(19.6, 1013.0, 591.000),\n",
      "(19.6, 1013.0, 591.000),\n",
      "(19.5, 1013.3, 591.500),\n",
      "(19.6, 1012.9, 591.000),\n",
      "(19.6, 1013.2, 591.500),\n",
      "(19.6, 1013.0, 591.500),\n",
      "(19.5, 1013.2, 591.500),\n",
      "(19.5, 1012.9, 591.500),\n",
      "(19.5, 1013.2, 591.500)\n",
      "]\n",
      "\n",
      "# background measurements\n",
      "zero_i = [\n",
      "(20.0, 1010.7, 0),\n",
      "(20.0, 1010.7, 0),\n",
      "(20.0, 1010.7, 0),\n",
      "(20.0, 1010.7, 0),\n",
      "(20.0, 1010.7, 0)\n",
      "]\n",
      "\n",
      "zero_f = [\n",
      "(20.0, 1010.7, 0),\n",
      "(20.0, 1010.7, 0),\n",
      "(20.0, 1010.7, 0),\n",
      "(20.0, 1010.7, 0),\n",
      "(20.0, 1010.7, 0)\n",
      "]"
     ],
     "language": "python",
     "metadata": {},
     "outputs": [],
     "prompt_number": 1
    },
    {
     "cell_type": "heading",
     "level": 3,
     "metadata": {},
     "source": [
      "An\u00e1lise de dados"
     ]
    },
    {
     "cell_type": "code",
     "collapsed": false,
     "input": [
      "%%javascript\n",
      "IPython.OutputArea.auto_scroll_threshold = 9999;"
     ],
     "language": "python",
     "metadata": {},
     "outputs": [
      {
       "javascript": [
        "IPython.OutputArea.auto_scroll_threshold = 9999;"
       ],
       "metadata": {},
       "output_type": "display_data",
       "text": [
        "<IPython.core.display.Javascript at 0x7fa48d251550>"
       ]
      }
     ],
     "prompt_number": 2
    },
    {
     "cell_type": "code",
     "collapsed": false,
     "input": [
      "# modules\n",
      "import math\n",
      "import numpy as np\n",
      "import pandas as pd\n",
      "import scipy.stats as st\n",
      "import matplotlib as mpl\n",
      "import matplotlib.pyplot as plt\n",
      "from scipy.optimize import curve_fit\n",
      "from IPython.display import display, Math, HTML"
     ],
     "language": "python",
     "metadata": {},
     "outputs": [],
     "prompt_number": 3
    },
    {
     "cell_type": "code",
     "collapsed": false,
     "input": [
      "# aesthetics\n",
      "#mpl.rcParams.update({'font.family':'STIXGeneral', 'font.weight':'light', 'mathtext.fontset': 'stix', 'font.size': 18})\n",
      "pd.options.display.max_colwidth=180\n",
      "pd.set_option('expand_frame_repr', False)"
     ],
     "language": "python",
     "metadata": {},
     "outputs": [],
     "prompt_number": 4
    },
    {
     "cell_type": "code",
     "collapsed": false,
     "input": [
      "# functions\n",
      "def k_pt(temp, p):\n",
      "    return ((temp+273.15)/293.15)*(1013.25/p)\n",
      "\n",
      "def k_ptdataset(dataset):\n",
      "    return ((dataset[0]+273.15)/293.15) *(1013.25/ dataset[1])"
     ],
     "language": "python",
     "metadata": {},
     "outputs": [],
     "prompt_number": 5
    },
    {
     "cell_type": "code",
     "collapsed": false,
     "input": [
      "datasets=[dataset1, dataset2, dataset3, dataset4, dataset5]\n",
      "index = [i for i in range(1,len(dataset1)+1)]\n",
      "columns = ['temperatura (oC)', 'press\u00e3o atmosf\u00e9rica (hPa)', 'carga (pC)',]\n",
      "\n",
      "df1 = pd.DataFrame(dataset1, columns=columns, index=index)\n",
      "df2 = pd.DataFrame(dataset2, columns=columns, index=index)\n",
      "df3 = pd.DataFrame(dataset3, columns=columns, index=index)\n",
      "df4 = pd.DataFrame(dataset4, columns=columns, index=index)\n",
      "df5 = pd.DataFrame(dataset5, columns=columns, index=index)\n",
      "\n",
      "df1['CPT'] = df1.apply(k_ptdataset, axis=1)\n",
      "df1['corr_charge (pC)'] = df1['carga (pC)']*df1['CPT']\n",
      "df2['CPT'] = df2.apply(k_ptdataset, axis=1)\n",
      "df2['corr_charge (pC)'] = df2['carga (pC)']*df2['CPT']\n",
      "df3['CPT'] = df3.apply(k_ptdataset, axis=1)\n",
      "df3['corr_charge (pC)'] = df3['carga (pC)']*df3['CPT']\n",
      "df4['CPT'] = df4.apply(k_ptdataset, axis=1)\n",
      "df4['corr_charge (pC)'] = df4['carga (pC)']*df4['CPT']\n",
      "df5['CPT'] = df5.apply(k_ptdataset, axis=1)\n",
      "df5['corr_charge (pC)'] = df5['carga (pC)']*df5['CPT']\n",
      "\n",
      "d = [df1, df2, df3, df4, df5]\n",
      "data = d\n",
      "\n",
      "for i in data:\n",
      "    i['CPT'] = np.round(i['CPT'],2)\n",
      "    i['corr_charge (pC)'] = np.round(i['corr_charge (pC)'],1)\n",
      "\n",
      "data = pd.concat(data, keys=[i for i in range(1, len(data)+1)], names=['# Repetition'])"
     ],
     "language": "python",
     "metadata": {},
     "outputs": [],
     "prompt_number": 6
    },
    {
     "cell_type": "code",
     "collapsed": false,
     "input": [
      "# data summary\n",
      "m = []\n",
      "s = []\n",
      "\n",
      "print \"\\n\"\n",
      "for index, i in enumerate(d):\n",
      "    mean = np.round(i['corr_charge (pC)'].mean(), 1)\n",
      "    var = np.round(i['corr_charge (pC)'].var(), 1)\n",
      "    sdev = np.round(i['corr_charge (pC)'].std(), 1)\n",
      "    cv = np.round(sdev/mean, 4)*100\n",
      "    \n",
      "    m.append(mean)\n",
      "    s.append(sdev)\n",
      "    \n",
      "    print \"dataset\",index+1\n",
      "    print \"----------------------------------------------------------------------------------\"\n",
      "    print i\n",
      "    print \"\\n\"\n",
      "    print \"m\u00e9dia: %.1f pC\"%mean \n",
      "    #print \"vari\u00e2ncia:\", var\n",
      "    print \"desvio-padr\u00e3o: %.1f pC\" %sdev\n",
      "    print \"coeficiente de varia\u00e7\u00e3o (%):\", cv\n",
      "    print \"----------------------------------------------------------------------------------\"\n",
      "    print \"\\n\""
     ],
     "language": "python",
     "metadata": {},
     "outputs": [
      {
       "output_type": "stream",
       "stream": "stdout",
       "text": [
        "\n",
        "\n",
        "dataset 1\n",
        "----------------------------------------------------------------------------------\n",
        "    temperatura (oC)  press\u00e3o atmosf\u00e9rica (hPa)  carga (pC)  CPT  corr_charge (pC)\n",
        "1               19.4                     1012.8       593.5    1             592.5\n",
        "2               19.5                     1013.0       593.5    1             592.6\n",
        "3               19.4                     1012.9       593.5    1             592.5\n",
        "4               19.4                     1013.1       593.5    1             592.4\n",
        "5               19.5                     1012.9       593.5    1             592.7\n",
        "6               19.6                     1013.0       593.5    1             592.8\n",
        "7               19.6                     1012.9       593.5    1             592.9\n",
        "8               19.5                     1012.9       593.5    1             592.7\n",
        "9               19.4                     1013.1       593.5    1             592.4\n",
        "10              19.5                     1012.9       593.5    1             592.7\n",
        "\n",
        "\n",
        "m\u00e9dia: 592.6 pC\n",
        "desvio-padr\u00e3o: 0.2 pC\n",
        "coeficiente de varia\u00e7\u00e3o (%): 0.03\n",
        "----------------------------------------------------------------------------------\n",
        "\n",
        "\n",
        "dataset 2\n",
        "----------------------------------------------------------------------------------\n",
        "    temperatura (oC)  press\u00e3o atmosf\u00e9rica (hPa)  carga (pC)  CPT  corr_charge (pC)\n",
        "1               19.6                     1013.2       590.5    1             589.7\n",
        "2               19.6                     1013.2       590.5    1             589.7\n",
        "3               19.4                     1013.3       591.5    1             590.3\n",
        "4               19.6                     1013.1       591.0    1             590.3\n",
        "5               19.7                     1012.9       591.0    1             590.6\n",
        "6               19.6                     1013.2       591.0    1             590.2\n",
        "7               19.6                     1013.2       590.5    1             589.7\n",
        "8               19.6                     1013.0       590.5    1             589.8\n",
        "9               19.6                     1013.2       591.0    1             590.2\n",
        "10              19.5                     1013.2       591.0    1             590.0\n",
        "\n",
        "\n",
        "m\u00e9dia: 590.0 pC\n",
        "desvio-padr\u00e3o: 0.3 pC\n",
        "coeficiente de varia\u00e7\u00e3o (%): 0.05\n",
        "----------------------------------------------------------------------------------\n",
        "\n",
        "\n",
        "dataset 3\n",
        "----------------------------------------------------------------------------------\n",
        "    temperatura (oC)  press\u00e3o atmosf\u00e9rica (hPa)  carga (pC)  CPT  corr_charge (pC)\n",
        "1               19.5                     1013.0       591.0    1             590.1\n",
        "2               19.6                     1013.2       591.5    1             590.7\n",
        "3               19.6                     1013.3       591.5    1             590.7\n",
        "4               19.5                     1013.3       591.5    1             590.5\n",
        "5               19.5                     1013.1       591.5    1             590.6\n",
        "6               19.6                     1013.3       591.5    1             590.7\n",
        "7               19.6                     1013.0       591.5    1             590.8\n",
        "8               19.5                     1013.2       591.5    1             590.5\n",
        "9               19.6                     1013.0       591.0    1             590.3\n",
        "10              19.6                     1013.3       591.5    1             590.7\n",
        "\n",
        "\n",
        "m\u00e9dia: 590.6 pC\n",
        "desvio-padr\u00e3o: 0.2 pC\n",
        "coeficiente de varia\u00e7\u00e3o (%): 0.03\n",
        "----------------------------------------------------------------------------------\n",
        "\n",
        "\n",
        "dataset 4\n",
        "----------------------------------------------------------------------------------\n",
        "    temperatura (oC)  press\u00e3o atmosf\u00e9rica (hPa)  carga (pC)  CPT  corr_charge (pC)\n",
        "1               19.7                     1013.3       590.5    1             589.9\n",
        "2               19.5                     1013.3       591.0    1             590.0\n",
        "3               19.7                     1013.3       590.5    1             589.9\n",
        "4               19.5                     1013.1       590.5    1             589.6\n",
        "5               19.5                     1013.1       590.5    1             589.6\n",
        "6               19.6                     1013.4       591.0    1             590.1\n",
        "7               19.6                     1013.3       591.0    1             590.2\n",
        "8               19.6                     1013.0       591.0    1             590.3\n",
        "9               19.6                     1013.0       591.0    1             590.3\n",
        "10              19.6                     1013.1       591.0    1             590.3\n",
        "\n",
        "\n",
        "m\u00e9dia: 590.0 pC\n",
        "desvio-padr\u00e3o: 0.3 pC\n",
        "coeficiente de varia\u00e7\u00e3o (%): 0.05\n",
        "----------------------------------------------------------------------------------\n",
        "\n",
        "\n",
        "dataset 5\n",
        "----------------------------------------------------------------------------------\n",
        "    temperatura (oC)  press\u00e3o atmosf\u00e9rica (hPa)  carga (pC)  CPT  corr_charge (pC)\n",
        "1               19.6                     1013.3       591.0    1             590.2\n",
        "2               19.6                     1013.0       591.0    1             590.3\n",
        "3               19.6                     1013.0       591.0    1             590.3\n",
        "4               19.5                     1013.3       591.5    1             590.5\n",
        "5               19.6                     1012.9       591.0    1             590.4\n",
        "6               19.6                     1013.2       591.5    1             590.7\n",
        "7               19.6                     1013.0       591.5    1             590.8\n",
        "8               19.5                     1013.2       591.5    1             590.5\n",
        "9               19.5                     1012.9       591.5    1             590.7\n",
        "10              19.5                     1013.2       591.5    1             590.5\n",
        "\n",
        "\n",
        "m\u00e9dia: 590.5 pC\n",
        "desvio-padr\u00e3o: 0.2 pC\n",
        "coeficiente de varia\u00e7\u00e3o (%): 0.03\n",
        "----------------------------------------------------------------------------------\n",
        "\n",
        "\n"
       ]
      }
     ],
     "prompt_number": 64
    },
    {
     "cell_type": "markdown",
     "metadata": {},
     "source": [
      "###Gr\u00e1ficos###"
     ]
    },
    {
     "cell_type": "code",
     "collapsed": false,
     "input": [
      "# plotting\n",
      "%matplotlib inline\n",
      "\n",
      "with mpl.rc_context(rc={'font.family':'sans-serif', 'font.weight':'normal', 'font.size':20}):\n",
      "    fig, axes = plt.subplots(nrows=5, ncols=1, figsize=(16, 8), dpi=1000)\n",
      "    #fig.title('charge measurement \\n (mean values for each dataset)', fontsize=20)\n",
      "    \n",
      "    for row, ax in enumerate(axes):\n",
      "        ax.plot(d[row].iloc[:,4], lw=0.25, ls='-', marker='o', markersize=10, color=[1, 0, 0, .6])\n",
      "        ax.xaxis.set_major_formatter(plt.FormatStrFormatter(\"\"))\n",
      "        ax.set_ylabel(\"charge (pC)\")\n",
      "        ax.set_xlim([-1, 11])\n",
      "        ax.set_ylim([585, 595]) #TODO: make autoscale --> amplitude do \n",
      "        #ax.set_title('charge measurement \\n (dataset %s)'%(row+1))\n",
      "        ax.set_title('charge measurement')\n",
      "        ax.legend('%s'%(row+1))"
     ],
     "language": "python",
     "metadata": {},
     "outputs": [
      {
       "metadata": {},
       "output_type": "display_data",
       "png": "[encoded data removed]",
       "text": [
        "<matplotlib.figure.Figure at 0x7fa46276f850>"
       ]
      }
     ],
     "prompt_number": 72
    },
    {
     "cell_type": "code",
     "collapsed": false,
     "input": [
      "# plotting\n",
      "%matplotlib inline\n",
      "\n",
      "with mpl.rc_context(rc={'font.family':'sans-serif', 'font.weight':'normal', 'font.size':20}):\n",
      "    fig, ax = plt.subplots(nrows=1, figsize=(16, 8), dpi=1000)\n",
      "    ax.set_title('charge measurement \\n (mean values for each dataset)', fontsize=20)\n",
      "    ax.set_xlabel('', fontsize=20)\n",
      "    ax.set_ylabel('charge (pC)', fontsize=20)\n",
      "    ax.set_xlim([0, 6])\n",
      "    ax.set_ylim([585, 595])\n",
      "    \n",
      "    for index, i in enumerate(d):\n",
      "        k = 2\n",
      "        s_m_k = (s[index]/np.sqrt(10))*k\n",
      "        ax.errorbar(index+1, m[index], yerr=s_m_k, lw=0.25, ls='-', marker='o', markersize=10, color=[1, 0, 0, .6])"
     ],
     "language": "python",
     "metadata": {},
     "outputs": [
      {
       "metadata": {},
       "output_type": "display_data",
       "png": "[encoded data removed]",
       "text": [
        "<matplotlib.figure.Figure at 0x7fa48d256b10>"
       ]
      }
     ],
     "prompt_number": 65
    },
    {
     "cell_type": "markdown",
     "metadata": {},
     "source": [
      "###Determina\u00e7\u00e3o do valor convencionado verdadeiro para o kerma no ar###"
     ]
    },
    {
     "cell_type": "code",
     "collapsed": false,
     "input": [
      "# html table of uncertainties budget\n",
      " \n",
      "ccalib = 5.363E+07\n",
      "v = 1.372E-09\n",
      "p = 1016.6\n",
      "t = 20.0\n",
      "\n",
      "table= \"\\\n",
      "<h3>Medi\u00e7\u00e3o com instrumento padr\u00e3o de calibra\u00e7\u00e3o</h3>\\\n",
      "<table>\\\n",
      "<th>\\\n",
      "<td>componente de incerteza</td>\\\n",
      "<td>estimativa</td>\\\n",
      "<td>unidades</td>\\\n",
      "<td>tipo de estimativa</td>\\\n",
      "<td>distribui\u00e7\u00e3o de probabilidade</td>\\\n",
      "<td>incerteza-padr\u00e3o</td>\\\n",
      "<td>coeficiente de sensibilidade</td>\\\n",
      "</th>\\\n",
      "<tr>\\\n",
      "<td></td>\\\n",
      "<td>coeficiente de calibra\u00e7\u00e3o</td>\\\n",
      "<td>%.2e</td>\\\n",
      "<td>Gy/C</td>\\\n",
      "<td>A</td>\\\n",
      "<td>gaussiana</td>\\\n",
      "<td>1.6e5</td>\\\n",
      "<td>1.367e-9</td>\\\n",
      "</tr>\\\n",
      "\\\n",
      "<tr>\\\n",
      "<td></td>\\\n",
      "<td><b>carga de ioniza\u00e7\u00e3o</b></td>\\\n",
      "<td>%.2e</td>\\\n",
      "<td>C</td>\\\n",
      "<td>A</td>\\\n",
      "<td>gaussiana</td>\\\n",
      "<td>7.510e-14</td>\\\n",
      "<td>5.345e7</td>\\\n",
      "</tr>\\\n",
      "\\\n",
      "<tr>\\\n",
      "<td></td>\\\n",
      "<td>press\u00e3o atmosf\u00e9rica</td>\\\n",
      "<td>%s</td>\\\n",
      "<td>hPa</td>\\\n",
      "<td>A</td>\\\n",
      "<td>rectangular</td>\\\n",
      "<td>0.05</td>\\\n",
      "<td>-7.21e-5</td>\\\n",
      "</tr>\\\n",
      "\\\n",
      "<tr>\\\n",
      "<td></td>\\\n",
      "<td>temperatura</td>\\\n",
      "<td>%s</td>\\\n",
      "<td>oC</td>\\\n",
      "<td>A</td>\\\n",
      "<td>rectangular</td>\\\n",
      "<td>0.03</td>\\\n",
      "<td>2.501e-4</td>\\\n",
      "</tr>\\\n",
      "\\\n",
      "<!-- tr>\\\n",
      "<td></td>\\\n",
      "<td>humidade relativa</td>\\\n",
      "<td>1.00</td>\\\n",
      "<td></td>\\\n",
      "<td>A</td>\\\n",
      "<td>rectangular</td>\\\n",
      "<td>0.0002</td>\\\n",
      "<td>7.332e-2</td>\\\n",
      "</tr -->\\\n",
      "\\\n",
      "<!-- tr>\\\n",
      "<td></td>\\\n",
      "<td>dist\u00e2ncia fonte-detector</td>\\\n",
      "<td>1.00</td>\\\n",
      "<td>m</td>\\\n",
      "<td>A</td>\\\n",
      "<td>rectangular</td>\\\n",
      "<td>1.372e-12</td>\\\n",
      "<td>5.345e7</td>\\\n",
      "</tr -->\\\n",
      "\\\n",
      "<!-- tr>\\\n",
      "<td></td>\\\n",
      "<td>tamanho do campo</td>\\\n",
      "<td>10 x 10</td>\\\n",
      "<td>cm x cm</td>\\\n",
      "<td>A</td>\\\n",
      "<td>rectangular</td>\\\n",
      "<td>0.0003</td>\\\n",
      "<td>7.332e-2</td>\\\n",
      "</tr -->\\\n",
      "\\\n",
      "<!-- tr>\\\n",
      "<td></td>\\\n",
      "<td>distor\u00e7\u00e3o da janela do fantoma de \u00e1gua</td>\\\n",
      "<td>1.00</td>\\\n",
      "<td>mm</td>\\\n",
      "<td>B</td>\\\n",
      "<td>rectangular</td>\\\n",
      "<td>0.0027</td>\\\n",
      "<td>7.332e-2</td>\\\n",
      "</tr -->\\\n",
      "</table>\"%(ccalib, v, p, t)\n",
      "\n",
      "display(HTML(table))"
     ],
     "language": "python",
     "metadata": {},
     "outputs": [
      {
       "html": [
        "<h3>Medi\u00e7\u00e3o com instrumento padr\u00e3o de calibra\u00e7\u00e3o</h3><table><th><td>componente de incerteza</td><td>estimativa</td><td>unidades</td><td>tipo de estimativa</td><td>distribui\u00e7\u00e3o de probabilidade</td><td>incerteza-padr\u00e3o</td><td>coeficiente de sensibilidade</td></th><tr><td></td><td>coeficiente de calibra\u00e7\u00e3o</td><td>5.36e+07</td><td>Gy/C</td><td>A</td><td>gaussiana</td><td>1.6e5</td><td>1.367e-9</td></tr><tr><td></td><td><b>carga de ioniza\u00e7\u00e3o</b></td><td>1.37e-09</td><td>C</td><td>A</td><td>gaussiana</td><td>7.510e-14</td><td>5.345e7</td></tr><tr><td></td><td>press\u00e3o atmosf\u00e9rica</td><td>1016.6</td><td>hPa</td><td>A</td><td>rectangular</td><td>0.05</td><td>-7.21e-5</td></tr><tr><td></td><td>temperatura</td><td>20.0</td><td>oC</td><td>A</td><td>rectangular</td><td>0.03</td><td>2.501e-4</td></tr><!-- tr><td></td><td>humidade relativa</td><td>1.00</td><td></td><td>A</td><td>rectangular</td><td>0.0002</td><td>7.332e-2</td></tr --><!-- tr><td></td><td>dist\u00e2ncia fonte-detector</td><td>1.00</td><td>m</td><td>A</td><td>rectangular</td><td>1.372e-12</td><td>5.345e7</td></tr --><!-- tr><td></td><td>tamanho do campo</td><td>10 x 10</td><td>cm x cm</td><td>A</td><td>rectangular</td><td>0.0003</td><td>7.332e-2</td></tr --><!-- tr><td></td><td>distor\u00e7\u00e3o da janela do fantoma de \u00e1gua</td><td>1.00</td><td>mm</td><td>B</td><td>rectangular</td><td>0.0027</td><td>7.332e-2</td></tr --></table>"
       ],
       "metadata": {},
       "output_type": "display_data",
       "text": [
        "<IPython.core.display.HTML at 0x7fa4628dc090>"
       ]
      }
     ],
     "prompt_number": 56
    },
    {
     "cell_type": "code",
     "collapsed": false,
     "input": [
      "vcv = 0.056106\n",
      "u_vcv = 0.056106\n",
      "\n",
      "print '\\n'\n",
      "print 'Valor convencionado verdadeiro para o kerma no ar: %.4e +- %.4e (C)'%(vcv, u_vcv)\n",
      "print '\\n'"
     ],
     "language": "python",
     "metadata": {},
     "outputs": [
      {
       "output_type": "stream",
       "stream": "stdout",
       "text": [
        "\n",
        "\n",
        "Valor convencionado verdadeiro para o kerma no ar: 5.6106e-02 +- 5.6106e-02 (C)\n",
        "\n",
        "\n"
       ]
      }
     ],
     "prompt_number": 57
    },
    {
     "cell_type": "markdown",
     "metadata": {},
     "source": [
      "###C\u00e1lculo da carga de ioniza\u00e7\u00e3o gerada na c\u00e2mara de ioniza\u00e7\u00e3o em calibra\u00e7\u00e3o###\n",
      "\n",
      "* Carga de ioniza\u00e7\u00e3o do equipamento a calibrar, $Q'$    \n",
      "$Q' = Q \\cdot C_{PT}$,    \n",
      "com $Q$ a carga de ioniza\u00e7\u00e3o medida (em C) e com $C_{PT}$ o factor de correc\u00e7\u00e3o para a press\u00e3o atmosf\u00e9rica e temperatura.\n",
      "\n",
      "<br />\n",
      "* Incerteza associada \u00e0 medi\u00e7\u00e3o da carga de ioniza\u00e7\u00e3o do equipamento a calibrar, $u_{Q'}$   \n",
      "$u_{Q'} = C_{PT}\\sqrt{u_{Q}^{2}+(\\frac{293.15^2}{273.15+T})^{2}\\cdot u_{T}^{2}+(\\frac{Q}{P})^{2}\\cdot u_{P}^{2}}$,    \n",
      "com $C_{PT}$ o factor de correc\u00e7\u00e3o para a press\u00e3o atmosf\u00e9rica e temperatura, com $Q$ e $u_{Q}$ a carga de ioniza\u00e7\u00e3o medida e a respectiva incerteza associada (em C), com $T$ e $u_{T}$ a temperatura e a respectiva incerteza associada (em oC) e com $P$ e $u_{P}$ a press\u00e3o atmosf\u00e9rica e respectiva incerteza associada (em hPa).     \n"
     ]
    },
    {
     "cell_type": "code",
     "collapsed": false,
     "input": [
      "# html table of uncertainties budget\n",
      "\n",
      "v, uv, csv = 5.9075e-10, 1.413e-13, 9.9985e-1\n",
      "p, up, csp = 1013.0, 0.05, -5.823e-13\n",
      "t, ut, cspt = 19.5, 0.03, 2.016e-12\n",
      "\n",
      "table= \"\\\n",
      "<h3>Balan\u00e7o de incertezas associadas \u00e0s medi\u00e7\u00f5es com c\u00e2mara de ioniza\u00e7\u00e3o em calibra\u00e7\u00e3o</h3>\\\n",
      "<table>\\\n",
      "<th>\\\n",
      "<td>componente de incerteza</td>\\\n",
      "<td>estimativa</td>\\\n",
      "<td>unidades</td>\\\n",
      "<td>tipo de estimativa</td>\\\n",
      "<td>distribui\u00e7\u00e3o de probabilidade</td>\\\n",
      "<td>incerteza-padr\u00e3o</td>\\\n",
      "<td>coeficiente de sensibilidade</td>\\\n",
      "</th>\\\n",
      "<tr>\\\n",
      "<td></td>\\\n",
      "<td><b>carga de ioniza\u00e7\u00e3o</b></td>\\\n",
      "<td>%.4e</td>\\\n",
      "<td>C</td>\\\n",
      "<td>A</td>\\\n",
      "<td>gaussiana</td>\\\n",
      "<td>1.413e-13</td>\\\n",
      "<td>9.9985e-1</td>\\\n",
      "</tr>\\\n",
      "\\\n",
      "<tr>\\\n",
      "<td></td>\\\n",
      "<td>press\u00e3o atmosf\u00e9rica</td>\\\n",
      "<td>%s</td>\\\n",
      "<td>hPa</td>\\\n",
      "<td>A</td>\\\n",
      "<td>rectangular</td>\\\n",
      "<td>0.05</td>\\\n",
      "<td>-5.823e-13</td>\\\n",
      "</tr>\\\n",
      "\\\n",
      "<tr>\\\n",
      "<td></td>\\\n",
      "<td>temperatura</td>\\\n",
      "<td>%s</td>\\\n",
      "<td>oC</td>\\\n",
      "<td>A</td>\\\n",
      "<td>rectangular</td>\\\n",
      "<td>0.03</td>\\\n",
      "<td>2.016e-12</td>\\\n",
      "</tr>\\\n",
      "\\\n",
      "<!-- tr>\\\n",
      "<td></td>\\\n",
      "<td>humidade relativa</td>\\\n",
      "<td>1.00</td>\\\n",
      "<td></td>\\\n",
      "<td>A</td>\\\n",
      "<td>rectangular</td>\\\n",
      "<td>0.0002</td>\\\n",
      "<td>5.8989e-10</td>\\\n",
      "</tr -->\\\n",
      "\\\n",
      "<!-- tr>\\\n",
      "<td></td>\\\n",
      "<td>dist\u00e2ncia fonte-detector</td>\\\n",
      "<td>1.00</td>\\\n",
      "<td>m</td>\\\n",
      "<td>A</td>\\\n",
      "<td>rectangular</td>\\\n",
      "<td>0.001</td>\\\n",
      "<td>5.8989e-10</td>\\\n",
      "</tr -->\\\n",
      "\\\n",
      "<!-- tr>\\\n",
      "<td></td>\\\n",
      "<td>tamanho do campo</td>\\\n",
      "<td>10 x 10</td>\\\n",
      "<td>cm x cm</td>\\\n",
      "<td>A</td>\\\n",
      "<td>rectangular</td>\\\n",
      "<td>0.0003</td>\\\n",
      "<td>5.8989e-10</td>\\\n",
      "</tr -->\\\n",
      "\\\n",
      "<!-- tr>\\\n",
      "<td></td>\\\n",
      "<td>distor\u00e7\u00e3o da janela do fantoma de \u00e1gua</td>\\\n",
      "<td>1.00</td>\\\n",
      "<td>mm</td>\\\n",
      "<td>B</td>\\\n",
      "<td>rectangular</td>\\\n",
      "<td>0.0027</td>\\\n",
      "<td>5.8989e-10</td>\\\n",
      "</tr -->\\\n",
      "</table>\"%(v, p, t)\n",
      "\n",
      "display(HTML(table))"
     ],
     "language": "python",
     "metadata": {},
     "outputs": [
      {
       "html": [
        "<h3>Balan\u00e7o de incertezas associadas \u00e0s medi\u00e7\u00f5es com c\u00e2mara de ioniza\u00e7\u00e3o em calibra\u00e7\u00e3o</h3><table><th><td>componente de incerteza</td><td>estimativa</td><td>unidades</td><td>tipo de estimativa</td><td>distribui\u00e7\u00e3o de probabilidade</td><td>incerteza-padr\u00e3o</td><td>coeficiente de sensibilidade</td></th><tr><td></td><td><b>carga de ioniza\u00e7\u00e3o</b></td><td>5.9075e-10</td><td>C</td><td>A</td><td>gaussiana</td><td>1.413e-13</td><td>9.9985e-1</td></tr><tr><td></td><td>press\u00e3o atmosf\u00e9rica</td><td>1013.0</td><td>hPa</td><td>A</td><td>rectangular</td><td>0.05</td><td>-5.823e-13</td></tr><tr><td></td><td>temperatura</td><td>19.5</td><td>oC</td><td>A</td><td>rectangular</td><td>0.03</td><td>2.016e-12</td></tr><!-- tr><td></td><td>humidade relativa</td><td>1.00</td><td></td><td>A</td><td>rectangular</td><td>0.0002</td><td>5.8989e-10</td></tr --><!-- tr><td></td><td>dist\u00e2ncia fonte-detector</td><td>1.00</td><td>m</td><td>A</td><td>rectangular</td><td>0.001</td><td>5.8989e-10</td></tr --><!-- tr><td></td><td>tamanho do campo</td><td>10 x 10</td><td>cm x cm</td><td>A</td><td>rectangular</td><td>0.0003</td><td>5.8989e-10</td></tr --><!-- tr><td></td><td>distor\u00e7\u00e3o da janela do fantoma de \u00e1gua</td><td>1.00</td><td>mm</td><td>B</td><td>rectangular</td><td>0.0027</td><td>5.8989e-10</td></tr --></table>"
       ],
       "metadata": {},
       "output_type": "display_data",
       "text": [
        "<IPython.core.display.HTML at 0x7fa4628dce50>"
       ]
      }
     ],
     "prompt_number": 54
    },
    {
     "cell_type": "code",
     "collapsed": false,
     "input": [
      "# calculations\n",
      "\n",
      "mean = np.round(np.mean(m), 1) #FIXME: rounding off is not working\n",
      "sdev = np.round(np.std(m), 1)  #FIXME: rounding off is not working\n",
      "\n",
      "mean= mean*1e-12\n",
      "sdev_mean = sdev*1e-12/math.sqrt(50)\n",
      "\n",
      "def unc_mean(q, unc_q, temp, unc_temp, p, unc_p):\n",
      "    \n",
      "    #return k_pt(temp, p)*math.sqrt(unc_q**2+((k_pt(temp, p)*mean/(273.15+temp))**2)*unc_temp**2*((mean/p)**2)*unc_p**2)\n",
      "    return k_pt(temp, p)*math.sqrt(unc_q**2 + ((k_pt(temp, p)*mean/(273.15+temp))**2)*unc_temp**2 +((mean/(p))**2)*unc_p**2)\n",
      "    \n",
      "    #coeficientes de sensibilidade (M, t, p)\n",
      "    #return k_pt(temp, p)*unc_q\n",
      "    #return k_pt(temp, p)*(k_pt(temp, p)*mean/(273.15+temp))\n",
      "    #return k_pt(temp, p)*(mean/(p))\n",
      "\n",
      "\n",
      "u_mean = unc_mean(mean, sdev_mean, 19.5, 0.03, 1013.0, 0.05)\n",
      "\n",
      "print '\\n'\n",
      "#print 'Carga de ioniza\u00e7\u00e3o gerada na c\u00e2mara de ioniza\u00e7\u00e3o em calibra\u00e7\u00e3o: %.4e +- %.4e (C)'%(mean, unc_mean(5.9075e-10, 1.4113e-13, 19.5, 0.03, 1013.0, 0.05))\n",
      "print 'Carga de ioniza\u00e7\u00e3o gerada na c\u00e2mara de ioniza\u00e7\u00e3o em calibra\u00e7\u00e3o: %.4e +- %.4e (C)'%(mean, u_mean)\n",
      "print '\\n'\n"
     ],
     "language": "python",
     "metadata": {},
     "outputs": [
      {
       "output_type": "stream",
       "stream": "stdout",
       "text": [
        "\n",
        "\n",
        "Carga de ioniza\u00e7\u00e3o gerada na c\u00e2mara de ioniza\u00e7\u00e3o em calibra\u00e7\u00e3o: 5.9070e-10 +- 1.5632e-13 (C)\n",
        "\n",
        "\n"
       ]
      }
     ],
     "prompt_number": 52
    },
    {
     "cell_type": "markdown",
     "metadata": {},
     "source": [
      "###Determina\u00e7\u00e3o do coeficiente de calibra\u00e7\u00e3o###\n",
      "$N_{K_{air}}=\\frac{K_{air}}{Q'}$,    \n",
      "com $K_{air}$ o valor convencionado verdadeiro para o kerma no ar (em Gy) e com $Q'$ a carga de ioniza\u00e7\u00e3o gerada na c\u00e2mara de ioniza\u00e7\u00e3o em calibra\u00e7\u00e3o (em C)."
     ]
    },
    {
     "cell_type": "code",
     "collapsed": true,
     "input": [
      "# calculations\n",
      "\n",
      "ccalib = (vcv/(mean))\n",
      "\n",
      "print('\\n')\n",
      "#print('Valor convencionado verdadeiro da grandeza de calibra\u00e7\u00e3o: %.2e'%vcv)\n",
      "print('Valor convencionado verdadeiro de kerma no ar (1m, (10 cm x 10 cm), @23 Julho 2014): %.2e +- 1.1e-4 (Gy)'%vcv)\n",
      "print('Carga de ioniza\u00e7\u00e3o gerada na c\u00e2mara de ioniza\u00e7\u00e3o em calibra\u00e7\u00e3o: %.4e +- 6.5e-13 (C)'%mean)\n",
      "print '\\n'\n",
      "print('Coeficiente de calibra\u00e7\u00e3o: %.3e +- 2.165e+5 (Gy/C)'%ccalib)\n",
      "print '\\n'\n"
     ],
     "language": "python",
     "metadata": {},
     "outputs": [
      {
       "output_type": "stream",
       "stream": "stdout",
       "text": [
        "\n",
        "\n",
        "Valor convencionado verdadeiro de kerma no ar (1m, (10 cm x 10 cm), @23 Julho 2014): 5.61e-02 +- 1.1e-4 (Gy)\n",
        "Carga de ioniza\u00e7\u00e3o gerada na c\u00e2mara de ioniza\u00e7\u00e3o em calibra\u00e7\u00e3o: 5.9070e-10 +- 6.5e-13 (C)\n",
        "\n",
        "\n",
        "Coeficiente de calibra\u00e7\u00e3o: 9.498e+07 +- 2.165e+5 (Gy/C)\n",
        "\n",
        "\n"
       ]
      }
     ],
     "prompt_number": 14
    },
    {
     "cell_type": "markdown",
     "metadata": {},
     "source": [
      "###Balan\u00e7o de incertezas associadas \u00e0s medi\u00e7\u00f5es###"
     ]
    },
    {
     "cell_type": "markdown",
     "metadata": {},
     "source": [
      "##7 Considera\u00e7\u00f5es finais##\n",
      "* Resumo    \n",
      "\n",
      "Medidas realizadas com o padr\u00e3o de calibra\u00e7\u00e3o:    \n",
      "1.372e-9 +- 5.76e-10 (C)    \n",
      "\n",
      "\n",
      "D\u00e9bito de dose a 1 m (10 cm x 10 cm) @ 23 julho 2014:    \n",
      "5.611e-2 +- 1.1e-4 (Gy)\n",
      "\n",
      "\n",
      "Medidas realizadas com a c\u00e2mara de ioniza\u00e7\u00e3o em calibra\u00e7\u00e3o:    \n",
      "5.9075e-10 +- 6.5e-13 (C)\n",
      "\n",
      "\n",
      "Coeficiente de calibra\u00e7\u00e3o:    \n",
      "9.498e7 +- 2.165e5 (Gy/C)"
     ]
    }
   ],
   "metadata": {}
  }
 ]
}
